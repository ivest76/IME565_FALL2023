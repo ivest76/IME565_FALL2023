{
  "cells": [
    {
      "cell_type": "markdown",
      "metadata": {
        "id": "25uoARhiemFX"
      },
      "source": [
        "# Introduction to Pandas\n",
        "<img src=\"https://raw.githubusercontent.com/earthinversion/earthinversion-images/main/images/pandas-python.png\" width=\"200\" style=\"float: center\"/>\n",
        "\n",
        "- Pandas is designed for manipulating mixtures of data types in <span style=\"color:blue\">***tabular formats*** </span> (much like Excel spreadsheets).\n",
        "- Pandas contains data structures and data manipulation tools designed to make <span style=\"color:blue\">***data cleaning and analysis*** </span> fast and easy in Python\n",
        "\n",
        "**Difference between Pandas and NumPy**\n",
        "\n",
        "- Pandas is designed for working with ***tabular or heterogeneous data***.\n",
        "- NumPy, by contrast, is best suited for working with ***homogeneous numerical array data***.\n",
        "- Pandas is popularly used for ***data analysis and visualization***.\n",
        "- NumPy is popularly used for ***numerical calculations***.\n",
        "---\n",
        "\n",
        "**Why Pandas is named so?**\n",
        "\n",
        "The name \"pandas\" is derived from \"panel data,\" which is an econometrics term for data sets that include observations over multiple time periods for the same individuals or entities.\n",
        "\n",
        "The library was originally developed by **Wes McKinney** in 2008 while working at AQR Capital Management, where he was working with panel data. The name \"pandas\" was chosen because the library was initially designed to handle panel data sets efficiently.\n",
        "\n",
        "Over time, the pandas library has evolved to handle a wide range of data types and structures beyond panel data, making it one of the most popular tools for data analysis and manipulation in Python.\n",
        "\n",
        "---\n",
        "\n",
        "### Outline:\n",
        "- Series vs. DataFrame\n",
        "\n",
        "- Working with Series\n",
        "\n",
        "- Working with DataFrames\n",
        "\n",
        "- Importing Data from .csv\n",
        "\n",
        "- Creating Filters\n",
        "\n",
        "---"
      ]
    },
    {
      "cell_type": "markdown",
      "metadata": {
        "id": "pfe94-pWemFa"
      },
      "source": [
        "## Using Pandas\n",
        "We generally import Pandas under the alias `pd`"
      ]
    },
    {
      "cell_type": "code",
      "execution_count": null,
      "metadata": {
        "id": "fQMbnK50emFb"
      },
      "outputs": [],
      "source": [
        "import pandas as pd\n",
        "import numpy as np"
      ]
    },
    {
      "cell_type": "code",
      "execution_count": null,
      "metadata": {
        "id": "9yOToKxXemFc"
      },
      "outputs": [],
      "source": [
        "# Check Pandas Version\n",
        "pd.__version__"
      ]
    },
    {
      "cell_type": "markdown",
      "metadata": {
        "id": "7olW3BCWemFd"
      },
      "source": [
        "## Pandas Data Structures: *Series* and *DataFrame*"
      ]
    },
    {
      "cell_type": "markdown",
      "metadata": {
        "id": "-GRGE4QCemFe"
      },
      "source": [
        "## Series\n",
        "\n",
        "A Pandas \"Series\" is a one-dimensional object, like an array."
      ]
    },
    {
      "cell_type": "code",
      "execution_count": null,
      "metadata": {
        "id": "hKuhqOjOemFe"
      },
      "outputs": [],
      "source": [
        "mySeries1 = pd.Series([8, 3 , -6, 7])\n",
        "mySeries1"
      ]
    },
    {
      "cell_type": "markdown",
      "metadata": {
        "id": "3AwTu9o6emFe"
      },
      "source": [
        "- The left column shows the \"indices\".  By default, these will run from 0 to (number of entries - 1).\n",
        "\n",
        "- The right column shows the \"values\".\n"
      ]
    },
    {
      "cell_type": "code",
      "execution_count": null,
      "metadata": {
        "id": "JrlFx2MKemFf"
      },
      "outputs": [],
      "source": [
        "# We can extract just the values:\n",
        "mySeries1.values"
      ]
    },
    {
      "cell_type": "code",
      "execution_count": null,
      "metadata": {
        "id": "RXJoH2XNemFf"
      },
      "outputs": [],
      "source": [
        "# We can also look at the indices:\n",
        "mySeries1.index"
      ]
    },
    {
      "cell_type": "markdown",
      "metadata": {
        "id": "fzbxuDUvemFf"
      },
      "source": [
        "- This is like `range(0, len(mySeries1))`"
      ]
    },
    {
      "cell_type": "markdown",
      "metadata": {
        "id": "8Sf3z4WFemFf"
      },
      "source": [
        "One useful pandas feature is that we can define custom indices:"
      ]
    },
    {
      "cell_type": "code",
      "execution_count": null,
      "metadata": {
        "id": "yKswlr5PemFg"
      },
      "outputs": [],
      "source": [
        "mySeries2 = pd.Series([8, 3, -6, 7], index = ['c', 'a', 'b', 'xyz'])\n",
        "mySeries2"
      ]
    },
    {
      "cell_type": "markdown",
      "metadata": {
        "id": "f0wGjg0lemFg"
      },
      "source": [
        "Take a look at the 3rd row:"
      ]
    },
    {
      "cell_type": "code",
      "execution_count": null,
      "metadata": {
        "id": "3mVMGItvemFg"
      },
      "outputs": [],
      "source": [
        "# We can use the index name:\n",
        "mySeries2['b']"
      ]
    },
    {
      "cell_type": "code",
      "execution_count": null,
      "metadata": {
        "id": "li4Bd2S-emFg"
      },
      "outputs": [],
      "source": [
        "# This is the same as above, but uses the index number\n",
        "mySeries2[2]"
      ]
    },
    {
      "cell_type": "code",
      "execution_count": null,
      "metadata": {
        "id": "h8gWg_uMemFh"
      },
      "outputs": [],
      "source": [
        "# We can create a Series from a python dictionary:\n",
        "myDict = {'HW1': 90, 'Exam 1': 77, 'Project': 88, 'HW2': 66}\n",
        "\n",
        "mySeries3 = pd.Series(myDict)\n",
        "mySeries3"
      ]
    },
    {
      "cell_type": "markdown",
      "metadata": {
        "id": "oHAV1nsXemFh"
      },
      "source": [
        "- Note that, by default, Pandas sorts by key/index"
      ]
    },
    {
      "cell_type": "code",
      "execution_count": null,
      "metadata": {
        "id": "QuiAHMjsemFh"
      },
      "outputs": [],
      "source": [
        "# We can provide an explicit ordering of indices:\n",
        "assignments = ['HW1', 'HW2', 'HW3', 'Exam 1', 'Project']\n",
        "mySeries4 = pd.Series(myDict, index = assignments)\n",
        "mySeries4"
      ]
    },
    {
      "cell_type": "markdown",
      "metadata": {
        "id": "tjeGyJfremFh"
      },
      "source": [
        "- Note that index 'HW3' doesn't appear in myDict.  \"NaN\" stands for \"Not a Number\"; it represents a null/missing value."
      ]
    },
    {
      "cell_type": "markdown",
      "source": [
        "`pd.isnull()`: This function indicates whether values are missing"
      ],
      "metadata": {
        "id": "F9uq012yQjKr"
      }
    },
    {
      "cell_type": "code",
      "execution_count": null,
      "metadata": {
        "id": "JYtG-NFremFi"
      },
      "outputs": [],
      "source": [
        "pd.isnull(mySeries4)"
      ]
    },
    {
      "cell_type": "markdown",
      "source": [
        "`pd.notnull()`: This function detects non-missing values"
      ],
      "metadata": {
        "id": "gMxfGTdtQns5"
      }
    },
    {
      "cell_type": "code",
      "source": [
        "pd.notnull(mySeries4)"
      ],
      "metadata": {
        "id": "Y0vb5FWeQo5N"
      },
      "execution_count": null,
      "outputs": []
    },
    {
      "cell_type": "markdown",
      "metadata": {
        "id": "l7_dd1CvemFi"
      },
      "source": [
        "#### We can also change the indices:"
      ]
    },
    {
      "cell_type": "code",
      "source": [
        "mySeries1"
      ],
      "metadata": {
        "id": "SEfOIQVEaKa1"
      },
      "execution_count": null,
      "outputs": []
    },
    {
      "cell_type": "code",
      "execution_count": null,
      "metadata": {
        "id": "38wzmVAHemFi"
      },
      "outputs": [],
      "source": [
        "mySeries1.index = ['a', 'x', 'b', 'z']\n",
        "mySeries1"
      ]
    },
    {
      "cell_type": "markdown",
      "metadata": {
        "id": "5T9y6xdnemFj"
      },
      "source": [
        "### Series Indexing"
      ]
    },
    {
      "cell_type": "code",
      "execution_count": null,
      "metadata": {
        "id": "9NGPBUr7emFj"
      },
      "outputs": [],
      "source": [
        "mySeries5 = pd.Series(np.arange(4.), index=['a', 'b', 'c', 'd'])\n",
        "mySeries5"
      ]
    },
    {
      "cell_type": "code",
      "execution_count": null,
      "metadata": {
        "id": "sDFDU5CIemFj"
      },
      "outputs": [],
      "source": [
        "# We can use the row numbers:\n",
        "mySeries5[1:3]"
      ]
    },
    {
      "cell_type": "code",
      "execution_count": null,
      "metadata": {
        "id": "PiHxlBVwemFj"
      },
      "outputs": [],
      "source": [
        "# We can also use the index labels:\n",
        "mySeries5['b':'d']"
      ]
    },
    {
      "cell_type": "markdown",
      "metadata": {
        "id": "WKFKmRSkemFk"
      },
      "source": [
        "## DataFrame\n",
        "\n",
        "A Pandas \"DataFrame\" represents a table of data.\n",
        "\n",
        "Each column in a Pandas DataFrame can contain a different type of data.\n",
        "\n",
        "*This example comes from Wes McKinney's book.*"
      ]
    },
    {
      "cell_type": "code",
      "execution_count": null,
      "metadata": {
        "id": "c0GNTHIGemFk"
      },
      "outputs": [],
      "source": [
        "# Suppose we already have some data in the form of a dictionary:\n",
        "data = {'state': ['Ohio', 'Ohio', 'Ohio', 'Nevada', 'Nevada', 'Nevada'],\n",
        "        'year': [2000, 2001, 2002, 2001, 2002, 2003],\n",
        "        'pop': [1.5, 1.7, 3.6, 2.4, 2.9, 3.2]}"
      ]
    },
    {
      "cell_type": "code",
      "execution_count": null,
      "metadata": {
        "id": "MB3I-HN-emFk"
      },
      "outputs": [],
      "source": [
        "# Convert this to a pandas DataFrame:\n",
        "frame1 = pd.DataFrame(data)\n",
        "frame1"
      ]
    },
    {
      "cell_type": "code",
      "execution_count": null,
      "metadata": {
        "id": "EnLwpQ3eemFk"
      },
      "outputs": [],
      "source": [
        "# Look at the first 5 rows:\n",
        "frame1.head()"
      ]
    },
    {
      "cell_type": "code",
      "execution_count": null,
      "metadata": {
        "id": "TsXWTl-femFk"
      },
      "outputs": [],
      "source": [
        "# Look at the last 5 rows:\n",
        "frame1.tail()"
      ]
    },
    {
      "cell_type": "markdown",
      "metadata": {
        "id": "D0F28SeCemFk"
      },
      "source": [
        "While using `head()` or `tail()` function, the default number of elements printed is 5.\n",
        "\n",
        "This value can be changed by providing an input to the function such as: `head(10)` or `tail(10)`  "
      ]
    },
    {
      "cell_type": "markdown",
      "source": [
        "**Checking the column data types**"
      ],
      "metadata": {
        "id": "sNa9voT2QrM_"
      }
    },
    {
      "cell_type": "code",
      "source": [
        "# Check the column data types using the dtypes attribute\n",
        "frame1.dtypes"
      ],
      "metadata": {
        "id": "7exnQDYCQx_C"
      },
      "execution_count": null,
      "outputs": []
    },
    {
      "cell_type": "code",
      "source": [
        "# Use the shape attribute to get the number of rows and columns in your dataframe\n",
        "frame1.shape"
      ],
      "metadata": {
        "id": "6MyzJccSQ828"
      },
      "execution_count": null,
      "outputs": []
    },
    {
      "cell_type": "markdown",
      "source": [
        "How would you print just the number of rows in your dataframe?"
      ],
      "metadata": {
        "id": "GYAhjWzoRDMv"
      }
    },
    {
      "cell_type": "code",
      "source": [
        "# The info method gives the column datatypes + number of non-null values\n",
        "frame1.info()"
      ],
      "metadata": {
        "id": "yGRjqVWBRJWp"
      },
      "execution_count": null,
      "outputs": []
    },
    {
      "cell_type": "code",
      "source": [
        "frame1"
      ],
      "metadata": {
        "id": "Z2ouufUGRYJv"
      },
      "execution_count": null,
      "outputs": []
    },
    {
      "cell_type": "code",
      "execution_count": null,
      "metadata": {
        "id": "hzXDVsHgemFk"
      },
      "outputs": [],
      "source": [
        "# We can specify the order in which columns are displayed:\n",
        "pd.DataFrame(data, columns = ['year', 'state', 'pop'])"
      ]
    },
    {
      "cell_type": "code",
      "execution_count": null,
      "metadata": {
        "id": "s8LAGXYwemFk"
      },
      "outputs": [],
      "source": [
        "# Let's create another dataframe.\n",
        "# We've added a new column (debt).\n",
        "# We've also specified the index names.\n",
        "frame2 = pd.DataFrame(data, columns = ['year', 'state', 'pop', 'debt'],\n",
        "                      index = ['one', 'two', 'three', 'four', 'five', 'six'])\n",
        "frame2"
      ]
    },
    {
      "cell_type": "code",
      "execution_count": null,
      "metadata": {
        "id": "YwLDbYyJemFl"
      },
      "outputs": [],
      "source": [
        "# Assign a scalar value to all rows in a given column:\n",
        "frame2['debt'] = 16.5\n",
        "frame2"
      ]
    },
    {
      "cell_type": "code",
      "execution_count": null,
      "metadata": {
        "id": "AM9Hj7QOemFl"
      },
      "outputs": [],
      "source": [
        "# Assign the values of a column via a list or array:\n",
        "frame2['debt'] = np.arange(6)\n",
        "frame2"
      ]
    },
    {
      "cell_type": "code",
      "execution_count": null,
      "metadata": {
        "id": "kPw8Ymi7emFl"
      },
      "outputs": [],
      "source": [
        "# The following won't work because the list doesn't match the number of rows in frame2:\n",
        "frame2['debt'] = np.arange(7)\n",
        "frame2['debt'] = np.arange(3)"
      ]
    },
    {
      "cell_type": "code",
      "execution_count": null,
      "metadata": {
        "id": "7pichsVzemFl"
      },
      "outputs": [],
      "source": [
        "# However, if we assign a pandas Series to a DataFrame column, pandas will fill in the gaps with NaN:\n",
        "val = pd.Series([-1.2, -1.5, -1.7], index = ['two', 'four', 'five'])\n",
        "frame2['debt'] = val\n",
        "frame2"
      ]
    },
    {
      "cell_type": "code",
      "execution_count": null,
      "metadata": {
        "id": "hX2excUoemFl"
      },
      "outputs": [],
      "source": [
        "# Add a new column:\n",
        "frame2['eastern'] = frame2.state == 'Ohio'\n",
        "frame2"
      ]
    },
    {
      "cell_type": "code",
      "execution_count": null,
      "metadata": {
        "id": "9k_SDFOiemFl"
      },
      "outputs": [],
      "source": [
        "# Remove a column:\n",
        "del frame2['eastern']\n",
        "frame2"
      ]
    },
    {
      "cell_type": "markdown",
      "source": [
        "**How can you delete multiple columns?**\n",
        "\n",
        "Use `drop()` function with `axis = 1`"
      ],
      "metadata": {
        "id": "a1rcYwV_S7aE"
      }
    },
    {
      "cell_type": "code",
      "source": [
        "frame2.drop(['pop', 'debt'], axis = 1)"
      ],
      "metadata": {
        "id": "VyHEuNOJS_EU"
      },
      "execution_count": null,
      "outputs": []
    },
    {
      "cell_type": "markdown",
      "source": [
        "By default `axis = 0` in `drop()`. This default behavior will delete rows."
      ],
      "metadata": {
        "id": "jSllnAriTGV6"
      }
    },
    {
      "cell_type": "code",
      "execution_count": null,
      "metadata": {
        "id": "IZ3mI3taemFl"
      },
      "outputs": [],
      "source": [
        "# Deleting rows\n",
        "frame2.drop(['one','two'])"
      ]
    },
    {
      "cell_type": "markdown",
      "source": [
        "Are rows removed from `frame2`?"
      ],
      "metadata": {
        "id": "rgIOh9VqSB_9"
      }
    },
    {
      "cell_type": "markdown",
      "source": [
        "**How to create a copy of dataframe?**"
      ],
      "metadata": {
        "id": "tk2dYA6nTNmi"
      }
    },
    {
      "cell_type": "code",
      "source": [
        "data = {'state': ['Ohio', 'Ohio', 'Ohio', 'Nevada', 'Nevada', 'Nevada'],\n",
        "        'year': [2000, 2001, 2002, 2001, 2002, 2003],\n",
        "        'pop': [1.5, 1.7, 3.6, 2.4, 2.9, 3.2]}\n",
        "\n",
        "# Convert data to a pandas DataFrame:\n",
        "frame1 = pd.DataFrame(data)\n",
        "frame1"
      ],
      "metadata": {
        "id": "dliOfTgHTGrw"
      },
      "execution_count": null,
      "outputs": []
    },
    {
      "cell_type": "code",
      "source": [
        "frame1_copy = frame1\n",
        "frame1_copy"
      ],
      "metadata": {
        "id": "MDBcnGwHTbuW"
      },
      "execution_count": null,
      "outputs": []
    },
    {
      "cell_type": "code",
      "source": [
        "# Remove a column from the copied dataframe:\n",
        "del frame1_copy['pop']\n",
        "frame1_copy"
      ],
      "metadata": {
        "id": "d4UNGvWAT1R3"
      },
      "execution_count": null,
      "outputs": []
    },
    {
      "cell_type": "code",
      "source": [
        "# Take a look at the original dataframe\n",
        "frame1"
      ],
      "metadata": {
        "id": "kPlaOQgRT_eN"
      },
      "execution_count": null,
      "outputs": []
    },
    {
      "cell_type": "markdown",
      "source": [
        "What do you observe?"
      ],
      "metadata": {
        "id": "rq1uHXJAUVQU"
      }
    },
    {
      "cell_type": "markdown",
      "metadata": {
        "id": "5COm0duWemFm"
      },
      "source": [
        "### DataFrame Indexing"
      ]
    },
    {
      "cell_type": "code",
      "source": [
        "# Let's consider frame2\n",
        "frame2 = pd.DataFrame(data, columns = ['year', 'state', 'pop', 'debt'],\n",
        "                      index = ['one', 'two', 'three', 'four', 'five', 'six'])\n",
        "frame2"
      ],
      "metadata": {
        "id": "wjA0NErzUvoI"
      },
      "execution_count": null,
      "outputs": []
    },
    {
      "cell_type": "code",
      "execution_count": null,
      "metadata": {
        "id": "OpThlyzWemFm"
      },
      "outputs": [],
      "source": [
        "# Get a list of all columns:\n",
        "frame2.columns"
      ]
    },
    {
      "cell_type": "code",
      "execution_count": null,
      "metadata": {
        "id": "IqHGTp7DemFm"
      },
      "outputs": [],
      "source": [
        "# Retrieving a specific column:\n",
        "frame2['year']"
      ]
    },
    {
      "cell_type": "code",
      "source": [
        "# Retrieving multiple specific columns:\n",
        "frame2[['year', 'pop']]"
      ],
      "metadata": {
        "id": "UoNoxwawTkXM"
      },
      "execution_count": null,
      "outputs": []
    },
    {
      "cell_type": "code",
      "execution_count": null,
      "metadata": {
        "id": "3krS43NXemFm"
      },
      "outputs": [],
      "source": [
        "frame2"
      ]
    },
    {
      "cell_type": "code",
      "execution_count": null,
      "metadata": {
        "id": "EDDFu-uyemFm"
      },
      "outputs": [],
      "source": [
        "# Retrieving a specific row:\n",
        "# a) by row index name, using \"loc\"\n",
        "frame2.loc['one']"
      ]
    },
    {
      "cell_type": "code",
      "execution_count": null,
      "metadata": {
        "id": "j5Svcg1kemFm"
      },
      "outputs": [],
      "source": [
        "frame2.loc['one':'four']   # Note that 'four' is included"
      ]
    },
    {
      "cell_type": "code",
      "execution_count": null,
      "metadata": {
        "id": "txxF6aXXemFm"
      },
      "outputs": [],
      "source": [
        "frame2.loc[['one', 'four']]"
      ]
    },
    {
      "cell_type": "code",
      "execution_count": null,
      "metadata": {
        "id": "eGrL9_h6emFm"
      },
      "outputs": [],
      "source": [
        "# b) by row index ID, using \"iloc\"\n",
        "frame2.iloc[0]"
      ]
    },
    {
      "cell_type": "code",
      "execution_count": null,
      "metadata": {
        "id": "cI0KGBvSemFn"
      },
      "outputs": [],
      "source": [
        "frame2.iloc[0:3]   # Note that 'four' is NOT included"
      ]
    },
    {
      "cell_type": "code",
      "execution_count": null,
      "metadata": {
        "id": "Y1VkysUSemFn"
      },
      "outputs": [],
      "source": [
        "frame2.iloc[[0, 3]]"
      ]
    },
    {
      "cell_type": "code",
      "execution_count": null,
      "metadata": {
        "id": "hUYN36NKemFn"
      },
      "outputs": [],
      "source": [
        "# Select a subset of rows and columns:\n",
        "frame2.loc['one', ['year', 'pop']]"
      ]
    },
    {
      "cell_type": "code",
      "execution_count": null,
      "metadata": {
        "id": "cW4K1EBHemFn"
      },
      "outputs": [],
      "source": [
        "frame2.loc['one', 'year':'pop']"
      ]
    },
    {
      "cell_type": "code",
      "execution_count": null,
      "metadata": {
        "id": "Tuc7rw1gemFn"
      },
      "outputs": [],
      "source": [
        "frame2.loc['one':'three', 'year':'pop']"
      ]
    },
    {
      "cell_type": "markdown",
      "metadata": {
        "id": "MygTN8-remFo"
      },
      "source": [
        "## Importing Data from .csv\n",
        "\n",
        "#### First, suppose we have a .csv file, named \"car_financing.csv\".\n",
        "\n",
        "We need to upload file `car_financing.csv` on Colab directory so that it can be imported in the notebook.\n",
        "\n",
        "To upload `car_financing.csv`, run the following code and upload the file from your computer/laptop."
      ]
    },
    {
      "cell_type": "code",
      "source": [
        "# Uploading example_with_header.csv file\n",
        "from google.colab import files\n",
        "uploaded = files.upload()"
      ],
      "metadata": {
        "id": "9wFMhjfQhTzq"
      },
      "execution_count": null,
      "outputs": []
    },
    {
      "cell_type": "code",
      "execution_count": null,
      "metadata": {
        "id": "DV4sRivLemFo"
      },
      "outputs": [],
      "source": [
        "# Use \"read_csv()\"\n",
        "df = pd.read_csv('car_financing.csv')\n",
        "df.head()"
      ]
    },
    {
      "cell_type": "markdown",
      "source": [
        "## Filtering Data\n",
        "\n",
        "Filter out the data to only have data `car_type` of 'Toyota Sienna' and `interest_rate` of 0.0702."
      ],
      "metadata": {
        "id": "GaRco0vWWs-n"
      }
    },
    {
      "cell_type": "code",
      "source": [
        "# Let's first start by looking at the car_type column.\n",
        "# There is a 'function' called value_counts(). It finds the number of unique rows.\n",
        "df['car_type'].value_counts()"
      ],
      "metadata": {
        "id": "9UL73glsWux2"
      },
      "execution_count": null,
      "outputs": []
    },
    {
      "cell_type": "markdown",
      "source": [
        "Filter for the `car_type`"
      ],
      "metadata": {
        "id": "hkEcwOmfXvvK"
      }
    },
    {
      "cell_type": "code",
      "source": [
        "# Notice that the filter produces a pandas series of True and False values\n",
        "car_filter = df['car_type'] == 'Toyota Sienna'\n",
        "car_filter"
      ],
      "metadata": {
        "id": "nX4fC5JuW5Sz"
      },
      "execution_count": null,
      "outputs": []
    },
    {
      "cell_type": "code",
      "source": [
        "# Filter dataframe to get a new DataFrame of all columns, but only 'Toyota Sienna' rows.\n",
        "sienna_df = df[car_filter]\n",
        "display(sienna_df)\n",
        "sienna_df['car_type'].value_counts()"
      ],
      "metadata": {
        "id": "2USYMg4kXCH8"
      },
      "execution_count": null,
      "outputs": []
    },
    {
      "cell_type": "markdown",
      "source": [
        "Filter for the `interest_rate`\n",
        "\n",
        "Comparison Operator | Meaning\n",
        "--- | ---\n",
        "< | less than\n",
        "<= | less than or equal to\n",
        "> | greater than\n",
        ">= | greater than or equal to\n",
        "== | equal\n",
        "!= | not equal"
      ],
      "metadata": {
        "id": "0tqAVvCiXNMi"
      }
    },
    {
      "cell_type": "code",
      "source": [
        "# Create a filter for a specific interest rate\n",
        "interest_filter = df['interest_rate'] == 0.0702\n",
        "interest_filter"
      ],
      "metadata": {
        "id": "jcS6awz6YDpG"
      },
      "execution_count": null,
      "outputs": []
    },
    {
      "cell_type": "code",
      "source": [
        "# Apply the filter\n",
        "specificInterest_df = df[interest_filter]\n",
        "# This will be only the rows with the .0702 interest rate. All other rows were dropped.\n",
        "specificInterest_df"
      ],
      "metadata": {
        "id": "wL3j3uciYQTe"
      },
      "execution_count": null,
      "outputs": []
    },
    {
      "cell_type": "markdown",
      "source": [
        "### Combining Filters\n",
        "In the previous sections, we created `car_filter` and `interest_filter`. We could do this all at one time.\n",
        "\n",
        "Bitwise Logic Operator | Meaning\n",
        "--- | ---\n",
        "& | and\n",
        "\\| | or\n",
        "~ | not"
      ],
      "metadata": {
        "id": "XSqSvkjbYTkC"
      }
    },
    {
      "cell_type": "code",
      "source": [
        "# Apply both filters to the DataFrame.\n",
        "new_df = df[car_filter & interest_filter]\n",
        "new_df"
      ],
      "metadata": {
        "id": "v6PB_jMlYbEp"
      },
      "execution_count": null,
      "outputs": []
    }
  ],
  "metadata": {
    "kernelspec": {
      "display_name": "Python 3",
      "language": "python",
      "name": "python3"
    },
    "language_info": {
      "codemirror_mode": {
        "name": "ipython",
        "version": 3
      },
      "file_extension": ".py",
      "mimetype": "text/x-python",
      "name": "python",
      "nbconvert_exporter": "python",
      "pygments_lexer": "ipython3",
      "version": "3.8.8"
    },
    "colab": {
      "provenance": [],
      "collapsed_sections": [
        "pfe94-pWemFa",
        "7olW3BCWemFd",
        "-GRGE4QCemFe",
        "l7_dd1CvemFi",
        "5T9y6xdnemFj",
        "WKFKmRSkemFk",
        "MygTN8-remFo",
        "GaRco0vWWs-n"
      ]
    }
  },
  "nbformat": 4,
  "nbformat_minor": 0
}