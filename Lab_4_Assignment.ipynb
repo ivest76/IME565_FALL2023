{
  "nbformat": 4,
  "nbformat_minor": 0,
  "metadata": {
    "colab": {
      "provenance": []
    },
    "kernelspec": {
      "name": "python3",
      "display_name": "Python 3"
    },
    "language_info": {
      "name": "python"
    }
  },
  "cells": [
    {
      "cell_type": "markdown",
      "source": [
        "# **Implementation of Decision Trees for Classification**"
      ],
      "metadata": {
        "id": "odoZv-mxVCx6"
      }
    },
    {
      "cell_type": "markdown",
      "source": [
        "The goal of this problem is to predict the number of occupants in a room using data obtained from multiple non-intrusive environmental sensors like temperature, light, sound, CO2, and passive infrared (PIR).\n",
        "1. **Algorithm to be used**: Decision Trees\n",
        "2. **Dataset**: `Occupancy Estimation.csv`\n",
        "\n",
        "Following is the description of columns in `Occupancy Estimation.csv` file:\n",
        "<TABLE CAPTION=\"Room Occupancy\">\n",
        "<TR><TD><B>Name</B></TD><TD><B>Description</B></TD></TR>\n",
        "<TR><TD>Temperature</TD><TD>In degree Celsius</TD></TR>\n",
        "<TR><TD>Light</TD><TD>In Lux</TD></TR>\n",
        "<TR><TD>Sound</TD><TD>In Volts</TD></TR>\n",
        "<TR><TD>CO2</TD><TD>In PPM</TD></TR>\n",
        "<TR><TD>CO2 Slope</TD><TD>Slope of CO2 values taken in a sliding window</TD></TR>\n",
        "<TR><TD>PIR</TD><TD>Binary value conveying motion detection</TD></TR>   \n",
        "<TR><TD>Room Occupancy Count (outcome)</TD><TD>Number of occupants in the room</TD></TR>\n",
        "</TABLE>\n",
        "\n",
        "Sensor nodes S1-S4 consist of temperature, light and sound sensors, S5 has a CO2 sensor and S6 and S7 have one PIR sensor each that are deployed on the ceiling ledges at an angle that maximize the sensor field of view for motion detection."
      ],
      "metadata": {
        "id": "VaPAwLJuVIk1"
      }
    },
    {
      "cell_type": "markdown",
      "source": [
        "1. Import `Occupancy Estimation.csv` file and check if the dataset is balanced/imbalanced with respect to the target variable (Room Occupancy Count)."
      ],
      "metadata": {
        "id": "eKEZpbfzWLEB"
      }
    },
    {
      "cell_type": "code",
      "source": [
        "# Your code here"
      ],
      "metadata": {
        "id": "jmq2o6sEVCfr"
      },
      "execution_count": null,
      "outputs": []
    },
    {
      "cell_type": "markdown",
      "source": [
        "2. With Room Occupancy Count as the outcome, implement a Decision Tree model using hold-out sampling approach. Consider test data size to be 40%."
      ],
      "metadata": {
        "id": "gBpOVFb0WazG"
      }
    },
    {
      "cell_type": "code",
      "source": [
        "# Your code here"
      ],
      "metadata": {
        "id": "PxiBXpWwWaRQ"
      },
      "execution_count": null,
      "outputs": []
    },
    {
      "cell_type": "markdown",
      "source": [
        "3. Generate a visualization of the decision tree model for this case."
      ],
      "metadata": {
        "id": "lN_zlqifspcC"
      }
    },
    {
      "cell_type": "code",
      "source": [
        "# Your code here"
      ],
      "metadata": {
        "id": "Fw3EoB1EVCcj"
      },
      "execution_count": null,
      "outputs": []
    },
    {
      "cell_type": "markdown",
      "source": [
        "4. Evaluate your model’s performance both on train and test sets using confusion matrices and classification reports."
      ],
      "metadata": {
        "id": "3Ast7Fb_s147"
      }
    },
    {
      "cell_type": "code",
      "source": [
        "# Your code here"
      ],
      "metadata": {
        "id": "zSpWKSa9s54Z"
      },
      "execution_count": null,
      "outputs": []
    },
    {
      "cell_type": "markdown",
      "source": [
        "\n",
        "5. Estimate prediction probabilities for each instance in test set and store the results in a dataframe."
      ],
      "metadata": {
        "id": "XyxoSiWLXAM0"
      }
    },
    {
      "cell_type": "code",
      "source": [
        "# Your code here"
      ],
      "metadata": {
        "id": "WJIuNfD-VCZt"
      },
      "execution_count": null,
      "outputs": []
    },
    {
      "cell_type": "markdown",
      "source": [
        "6. Generate a dataframe and a bar plot to show the importance of input features in occupancy estimation."
      ],
      "metadata": {
        "id": "UNS_24X1tNb8"
      }
    },
    {
      "cell_type": "code",
      "source": [
        "# Your code here"
      ],
      "metadata": {
        "id": "hqeolkB1tOC4"
      },
      "execution_count": null,
      "outputs": []
    }
  ]
}