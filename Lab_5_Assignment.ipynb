{
  "cells": [
    {
      "cell_type": "markdown",
      "id": "a2d85c8b",
      "metadata": {
        "id": "a2d85c8b"
      },
      "source": [
        "<h1 align=\"center\">Lab 6: Decision Trees for Classification and Regression</h1>"
      ]
    },
    {
      "cell_type": "markdown",
      "id": "08e3da84",
      "metadata": {
        "id": "08e3da84"
      },
      "source": [
        "---\n",
        "## Problem A\n",
        "\n",
        "The goal of this problem is to predict the number of occupants in a room using data obtained from multiple non-intrusive environmental sensors like temperature, light, sound, CO2, and passive infrared (PIR).\n",
        "1. **Algorithm to be used**: Decision Trees\n",
        "2. **Dataset**: `Occupancy Estimation.csv`\n",
        "\n",
        "Following is the description of columns in `Occupancy Estimation.csv` file:\n",
        "<TABLE CAPTION=\"Room Occupancy\">\n",
        "<TR><TD><B>Name</B></TD><TD><B>Description</B></TD></TR>\n",
        "<TR><TD>Temperature</TD><TD>In degree Celsius</TD></TR>\n",
        "<TR><TD>Light</TD><TD>In Lux</TD></TR>\n",
        "<TR><TD>Sound</TD><TD>In Volts</TD></TR>\n",
        "<TR><TD>CO2</TD><TD>In PPM</TD></TR>\n",
        "<TR><TD>CO2 Slope</TD><TD>Slope of CO2 values taken in a sliding window</TD></TR>\n",
        "<TR><TD>PIR</TD><TD>Binary value conveying motion detection</TD></TR>   \n",
        "<TR><TD>Room Occupancy Count (outcome)</TD><TD>Number of occupants in the room</TD></TR>\n",
        "</TABLE>\n",
        "\n",
        "Sensor nodes S1-S4 consist of temperature, light and sound sensors, S5 has a CO2 sensor and S6 and S7 have one PIR sensor each that are deployed on the ceiling ledges at an angle that maximize the sensor field of view for motion detection."
      ]
    },
    {
      "cell_type": "markdown",
      "id": "4bd693da",
      "metadata": {
        "id": "4bd693da"
      },
      "source": [
        "#### Import Packages"
      ]
    },
    {
      "cell_type": "code",
      "execution_count": null,
      "id": "4ab9604e",
      "metadata": {
        "id": "4ab9604e"
      },
      "outputs": [],
      "source": [
        "import pandas as pd                  # Pandas\n",
        "import numpy as np                   # Numpy\n",
        "from matplotlib import pyplot as plt # Matplotlib\n",
        "\n",
        "# Package to implement Decision Tree Model\n",
        "import sklearn\n",
        "from sklearn.tree import DecisionTreeClassifier\n",
        "\n",
        "# Package for data partitioning\n",
        "from sklearn.model_selection import train_test_split\n",
        "\n",
        "# Package to visualize Decision Tree\n",
        "from sklearn import tree\n",
        "\n",
        "# Package for generating confusion matrix\n",
        "from sklearn.metrics import confusion_matrix, ConfusionMatrixDisplay\n",
        "\n",
        "# Package for generating classification report\n",
        "from sklearn.metrics import classification_report\n",
        "\n",
        "# Import packages to implement Stratified K-fold CV\n",
        "from sklearn.model_selection import StratifiedKFold # For creating folds\n",
        "\n",
        "# Import Package to implement GridSearch CV (Hyperparameter Tuning Method 1)\n",
        "from sklearn.model_selection import GridSearchCV\n",
        "\n",
        "# Importing package for Randomized Search CV (Hyperparameter Tuning Method 2)\n",
        "from sklearn.model_selection import RandomizedSearchCV\n",
        "\n",
        "# Package to record time\n",
        "import time\n",
        "\n",
        "# Ignore Deprecation Warnings\n",
        "import warnings\n",
        "warnings.filterwarnings('ignore')\n",
        "\n",
        "%matplotlib inline"
      ]
    },
    {
      "cell_type": "markdown",
      "id": "4ed9b74c",
      "metadata": {
        "id": "4ed9b74c"
      },
      "source": [
        "#### 1. Import `Occupancy Estimation.csv` file and check if the dataset is balanced/imbalanced with respect to the target variable (Room Occupancy Count)."
      ]
    },
    {
      "cell_type": "code",
      "source": [
        "# Your code here"
      ],
      "metadata": {
        "id": "JTYq_WR5xS4d"
      },
      "id": "JTYq_WR5xS4d",
      "execution_count": null,
      "outputs": []
    },
    {
      "cell_type": "markdown",
      "source": [
        "#### 2. With Room Occupancy Count as the outcome, implement a Decision Tree model and identify its optimal values of hyperparameters (`max_depth`, `min_samples_split`, and `min_samples_leaf`) using Grid Search CV.\n",
        "\n",
        "**NOTE**: Consider test data size to be 40% and the number of folds to be 3. Use `f1_macro` as the scoring metric."
      ],
      "metadata": {
        "id": "lCbHGgzUwzeX"
      },
      "id": "lCbHGgzUwzeX"
    },
    {
      "cell_type": "code",
      "source": [
        "# Your code here"
      ],
      "metadata": {
        "id": "l7H-Q6q1xY8h"
      },
      "id": "l7H-Q6q1xY8h",
      "execution_count": null,
      "outputs": []
    },
    {
      "cell_type": "markdown",
      "source": [
        "#### 3. Create a visualization of the best decision tree (the one with the optimal values of hyperparameters)"
      ],
      "metadata": {
        "id": "WmVvUsTFz6ZZ"
      },
      "id": "WmVvUsTFz6ZZ"
    },
    {
      "cell_type": "code",
      "source": [
        "# Your code here"
      ],
      "metadata": {
        "id": "wn60FM5n0Yng"
      },
      "id": "wn60FM5n0Yng",
      "execution_count": null,
      "outputs": []
    },
    {
      "cell_type": "markdown",
      "source": [
        "#### 4. Generate a confusion matrix and a classification report to evaluate the performance of tuned model on train set."
      ],
      "metadata": {
        "id": "BFtt_ttJ15US"
      },
      "id": "BFtt_ttJ15US"
    },
    {
      "cell_type": "code",
      "source": [
        "# Your code here"
      ],
      "metadata": {
        "id": "LHQO4Nr91WMl"
      },
      "id": "LHQO4Nr91WMl",
      "execution_count": null,
      "outputs": []
    },
    {
      "cell_type": "markdown",
      "id": "f74fec70",
      "metadata": {
        "id": "f74fec70"
      },
      "source": [
        "#### 5. Generate a confusion matrix and a classification report to evaluate the performance of tuned model on test set."
      ]
    },
    {
      "cell_type": "code",
      "source": [
        "# Your code here"
      ],
      "metadata": {
        "id": "43kjHs5g1awX"
      },
      "id": "43kjHs5g1awX",
      "execution_count": null,
      "outputs": []
    },
    {
      "cell_type": "markdown",
      "source": [
        "#### 6. Print the values of macro averaged F1 score for both train and test sets. Report your observation in terms of whether the model is underfitting or overfitting."
      ],
      "metadata": {
        "id": "Y5wdGRsu3uyX"
      },
      "id": "Y5wdGRsu3uyX"
    },
    {
      "cell_type": "code",
      "source": [
        "# Your code here"
      ],
      "metadata": {
        "id": "wqg2alh55Uws"
      },
      "id": "wqg2alh55Uws",
      "execution_count": null,
      "outputs": []
    },
    {
      "cell_type": "markdown",
      "id": "422fd15c",
      "metadata": {
        "id": "422fd15c"
      },
      "source": [
        "#### 7. Using the tuned model, generate a bar plot to show the importance of input features in occupancy estimation.\n",
        "\n",
        "NOTE: Consider only the features that have importance scores of at least 5%.\n",
        "\n",
        "What is the total percentage of reduction in Gini impurity caused by these features."
      ]
    },
    {
      "cell_type": "code",
      "source": [
        "# Your code here"
      ],
      "metadata": {
        "id": "DpSGIwnd5pdf"
      },
      "id": "DpSGIwnd5pdf",
      "execution_count": null,
      "outputs": []
    },
    {
      "cell_type": "markdown",
      "source": [
        "#### 8. Implement Randomized Search Cross Validation to identify the near optimal values of hyperparameters by considering `n_iter = 60`.\n",
        "\n",
        "Does the values matche with the ones obtained while implementing Grid Search Cross Validation?"
      ],
      "metadata": {
        "id": "aD3JSADJrbHl"
      },
      "id": "aD3JSADJrbHl"
    },
    {
      "cell_type": "code",
      "source": [
        "# Your code here"
      ],
      "metadata": {
        "id": "ARGUvBN79sOs"
      },
      "id": "ARGUvBN79sOs",
      "execution_count": null,
      "outputs": []
    },
    {
      "cell_type": "markdown",
      "source": [
        "#### 9. Implement adaptive strategy of hyperparameter tuning (combining Randomized and Grid Search Cross Validation) to find the optimal values of hyperparameters."
      ],
      "metadata": {
        "id": "3wP2PMO39Rmn"
      },
      "id": "3wP2PMO39Rmn"
    },
    {
      "cell_type": "code",
      "source": [
        "# Your code here"
      ],
      "metadata": {
        "id": "D7rqdgNo9cZZ"
      },
      "id": "D7rqdgNo9cZZ",
      "execution_count": null,
      "outputs": []
    },
    {
      "cell_type": "markdown",
      "source": [
        "#### 10. Report your observations in terms of number of experiments required to reach the optimal values of hyperparameters using Grid Search CV in comparison to the Adaptive Strategy."
      ],
      "metadata": {
        "id": "5cfkMoc4_SE1"
      },
      "id": "5cfkMoc4_SE1"
    },
    {
      "cell_type": "markdown",
      "source": [
        "Write your observation:"
      ],
      "metadata": {
        "id": "H_iBJkno_pcX"
      },
      "id": "H_iBJkno_pcX"
    },
    {
      "cell_type": "markdown",
      "source": [
        "---\n",
        "## Problem B\n",
        "\n",
        "<img src=\"https://media.istockphoto.com/id/618973378/photo/bicycle-sharing-system.jpg?s=612x612&w=0&k=20&c=ms8wYi_uOo2YgghfJiXeIq073M15Dyoc7dEau9qDFOE=\" width=\"400\" style=\"float: center\"/>\n",
        "\n",
        "Bike sharing systems are new generation of traditional bike rentals where whole process from membership, rental, and return back has become automatic. Through these systems, user is able to easily rent a bike from a particular position and return back at another position. Today, there exists great interest in these systems due to their important role in traffic, environmental, and health issues.\n",
        "\n",
        "\n",
        "**In this case study, the objective is to predict the daily count of users renting bikes using weather and seasonal information.**\n",
        "\n",
        "Data to be used: *bike.csv*\n",
        "\n",
        "Following is the description of columns in *bike.csv* file\n",
        "\n",
        "<TABLE CAPTION=\"Bike Sharing Dataset\">\n",
        "<TR><TD><B>Variable</B></TD><TD><B>Description</B></TD></TR>\n",
        "<TR><TD>season</TD><TD>season (1:winter, 2:spring, 3:summer, 4:fall)</TD></TR>\n",
        "<TR><TD>yr</TD><TD>year (0: 2011, 1:2012)</TD></TR>\n",
        "<TR><TD>mnth</TD><TD>month (1 to 12)</TD></TR>\n",
        "<TR><TD>holiday</TD><TD>whether day is holiday or not </TD></TR>\n",
        "<TR><TD>weekday</TD><TD>day of the week</TD></TR>\n",
        "<TR><TD>workingday</TD><TD>if day is neither weekend nor holiday is 1, otherwise is 0</TD></TR>   \n",
        "<TR><TD>weathersit</TD><TD>Weather Situation (1,2,3,4)**</TD></TR>\n",
        "<TR><TD>temp</TD><TD>Normalized temperature in Celsius</TD></TR>\n",
        "<TR><TD>atemp</TD><TD>Normalized feeling temperature in Celsius</TD></TR>\n",
        "<TR><TD>hum</TD><TD>Normalized humidity</TD></TR>\n",
        "<TR><TD>windspeed</TD><TD>Normalized wind speed</TD></TR>\n",
        "<TR><TD>cnt (outcome)</TD><TD>Count of users renting bikes</TD></TR>\n",
        "</TABLE>\n",
        "\n",
        "** For Weather Situation (variable: weathersit), following are the possibilites:\n",
        "\n",
        "- 1: Clear, Few clouds, Partly cloudy, Partly cloudy\n",
        "- 2: Mist + Cloudy, Mist + Broken clouds, Mist + Few clouds, Mist\n",
        "- 3: Light Snow, Light Rain + Thunderstorm + Scattered clouds, Light Rain + Scattered clouds\n",
        "- 4: Heavy Rain + Ice Pallets + Thunderstorm + Mist, Snow + Fog"
      ],
      "metadata": {
        "id": "6QIFbF81CNDr"
      },
      "id": "6QIFbF81CNDr"
    },
    {
      "cell_type": "markdown",
      "source": [
        "#### 1. With cnt as the outcome, implement a Decision Tree model and identify its optimal values of hyperparameters using adaptive strategy of hyperparameter tuning. Consider test data size to be 20%, number of folds to be 3, and scoring metric to be `r2`.\n",
        "\n",
        "**NOTE**: To implement Decision Tree Regressor, import the following library on your Colab Notebook:\n",
        "\n",
        "`from sklearn.tree import DecisionTreeRegressor`"
      ],
      "metadata": {
        "id": "xU6rj_Z9GujQ"
      },
      "id": "xU6rj_Z9GujQ"
    },
    {
      "cell_type": "code",
      "source": [
        "# Your code here"
      ],
      "metadata": {
        "id": "3j5sPF4oHMPd"
      },
      "id": "3j5sPF4oHMPd",
      "execution_count": null,
      "outputs": []
    },
    {
      "cell_type": "markdown",
      "source": [
        "#### 2. Using the best Decision Tree model that is identified in the previous step, do the following:\n",
        "\n",
        "- Evaluate the performance of model on test set using R2 and RMSE values.\n",
        "- Generate a a bar plot to show the importance of input features with non-zero importance scores."
      ],
      "metadata": {
        "id": "jGsQrl3FHkNh"
      },
      "id": "jGsQrl3FHkNh"
    },
    {
      "cell_type": "code",
      "source": [
        "# Your code here"
      ],
      "metadata": {
        "id": "DBtseXRZH8OS"
      },
      "id": "DBtseXRZH8OS",
      "execution_count": null,
      "outputs": []
    }
  ],
  "metadata": {
    "colab": {
      "provenance": [],
      "collapsed_sections": [
        "08e3da84",
        "6QIFbF81CNDr"
      ]
    },
    "kernelspec": {
      "display_name": "Python 3",
      "language": "python",
      "name": "python3"
    },
    "language_info": {
      "codemirror_mode": {
        "name": "ipython",
        "version": 3
      },
      "file_extension": ".py",
      "mimetype": "text/x-python",
      "name": "python",
      "nbconvert_exporter": "python",
      "pygments_lexer": "ipython3",
      "version": "3.8.8"
    }
  },
  "nbformat": 4,
  "nbformat_minor": 5
}