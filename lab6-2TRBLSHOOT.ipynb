{
 "cells": [
  {
   "cell_type": "code",
   "execution_count": 48,
   "metadata": {},
   "outputs": [],
   "source": [
    "import numpy as np\n",
    "import pandas as pd\n",
    "import streamlit as st\n",
    "import seaborn as sns\n",
    "import matplotlib.pyplot as plt\n",
    "import math\n"
   ]
  },
  {
   "cell_type": "code",
   "execution_count": 35,
   "metadata": {},
   "outputs": [
    {
     "data": {
      "text/html": [
       "<div>\n",
       "<style scoped>\n",
       "    .dataframe tbody tr th:only-of-type {\n",
       "        vertical-align: middle;\n",
       "    }\n",
       "\n",
       "    .dataframe tbody tr th {\n",
       "        vertical-align: top;\n",
       "    }\n",
       "\n",
       "    .dataframe thead th {\n",
       "        text-align: right;\n",
       "    }\n",
       "</style>\n",
       "<table border=\"1\" class=\"dataframe\">\n",
       "  <thead>\n",
       "    <tr style=\"text-align: right;\">\n",
       "      <th></th>\n",
       "      <th>Book Id</th>\n",
       "      <th>Title</th>\n",
       "      <th>Author</th>\n",
       "      <th>Author l-f</th>\n",
       "      <th>Additional Authors</th>\n",
       "      <th>ISBN</th>\n",
       "      <th>ISBN13</th>\n",
       "      <th>My Rating</th>\n",
       "      <th>Average Rating</th>\n",
       "      <th>Publisher</th>\n",
       "      <th>...</th>\n",
       "      <th>Private Notes</th>\n",
       "      <th>Read Count</th>\n",
       "      <th>Recommended For</th>\n",
       "      <th>Recommended By</th>\n",
       "      <th>Owned Copies</th>\n",
       "      <th>Original Purchase Date</th>\n",
       "      <th>Original Purchase Location</th>\n",
       "      <th>Condition</th>\n",
       "      <th>Condition Description</th>\n",
       "      <th>BCID</th>\n",
       "    </tr>\n",
       "  </thead>\n",
       "  <tbody>\n",
       "    <tr>\n",
       "      <th>0</th>\n",
       "      <td>18749286</td>\n",
       "      <td>How to Get Rich: One of the World's Greatest E...</td>\n",
       "      <td>Felix Dennis</td>\n",
       "      <td>Dennis, Felix</td>\n",
       "      <td>NaN</td>\n",
       "      <td>=\"\"</td>\n",
       "      <td>=\"\"</td>\n",
       "      <td>0</td>\n",
       "      <td>4.20</td>\n",
       "      <td>Portfolio</td>\n",
       "      <td>...</td>\n",
       "      <td>NaN</td>\n",
       "      <td>1</td>\n",
       "      <td>NaN</td>\n",
       "      <td>NaN</td>\n",
       "      <td>0</td>\n",
       "      <td>NaN</td>\n",
       "      <td>NaN</td>\n",
       "      <td>NaN</td>\n",
       "      <td>NaN</td>\n",
       "      <td>NaN</td>\n",
       "    </tr>\n",
       "    <tr>\n",
       "      <th>1</th>\n",
       "      <td>34376766</td>\n",
       "      <td>Blood, Sweat, and Pixels: The Triumphant, Turb...</td>\n",
       "      <td>Jason Schreier</td>\n",
       "      <td>Schreier, Jason</td>\n",
       "      <td>NaN</td>\n",
       "      <td>=\"\"</td>\n",
       "      <td>=\"\"</td>\n",
       "      <td>0</td>\n",
       "      <td>4.23</td>\n",
       "      <td>Harper Paperbacks</td>\n",
       "      <td>...</td>\n",
       "      <td>NaN</td>\n",
       "      <td>1</td>\n",
       "      <td>NaN</td>\n",
       "      <td>NaN</td>\n",
       "      <td>0</td>\n",
       "      <td>NaN</td>\n",
       "      <td>NaN</td>\n",
       "      <td>NaN</td>\n",
       "      <td>NaN</td>\n",
       "      <td>NaN</td>\n",
       "    </tr>\n",
       "    <tr>\n",
       "      <th>2</th>\n",
       "      <td>13530973</td>\n",
       "      <td>Antifragile: Things That Gain from Disorder</td>\n",
       "      <td>Nassim Nicholas Taleb</td>\n",
       "      <td>Taleb, Nassim Nicholas</td>\n",
       "      <td>NaN</td>\n",
       "      <td>=\"1400067820\"</td>\n",
       "      <td>=\"9781400067824\"</td>\n",
       "      <td>5</td>\n",
       "      <td>4.08</td>\n",
       "      <td>Random House</td>\n",
       "      <td>...</td>\n",
       "      <td>NaN</td>\n",
       "      <td>1</td>\n",
       "      <td>NaN</td>\n",
       "      <td>NaN</td>\n",
       "      <td>0</td>\n",
       "      <td>NaN</td>\n",
       "      <td>NaN</td>\n",
       "      <td>NaN</td>\n",
       "      <td>NaN</td>\n",
       "      <td>NaN</td>\n",
       "    </tr>\n",
       "    <tr>\n",
       "      <th>3</th>\n",
       "      <td>45697427</td>\n",
       "      <td>Dark Matter</td>\n",
       "      <td>Blake Crouch</td>\n",
       "      <td>Crouch, Blake</td>\n",
       "      <td>NaN</td>\n",
       "      <td>=\"\"</td>\n",
       "      <td>=\"\"</td>\n",
       "      <td>0</td>\n",
       "      <td>4.10</td>\n",
       "      <td>Ballantine Books</td>\n",
       "      <td>...</td>\n",
       "      <td>NaN</td>\n",
       "      <td>1</td>\n",
       "      <td>NaN</td>\n",
       "      <td>NaN</td>\n",
       "      <td>0</td>\n",
       "      <td>NaN</td>\n",
       "      <td>NaN</td>\n",
       "      <td>NaN</td>\n",
       "      <td>NaN</td>\n",
       "      <td>NaN</td>\n",
       "    </tr>\n",
       "    <tr>\n",
       "      <th>4</th>\n",
       "      <td>42041926</td>\n",
       "      <td>The Scout Mindset: Why Some People See Things ...</td>\n",
       "      <td>Julia Galef</td>\n",
       "      <td>Galef, Julia</td>\n",
       "      <td>NaN</td>\n",
       "      <td>=\"0735217556\"</td>\n",
       "      <td>=\"9780735217553\"</td>\n",
       "      <td>0</td>\n",
       "      <td>4.33</td>\n",
       "      <td>Portfolio</td>\n",
       "      <td>...</td>\n",
       "      <td>NaN</td>\n",
       "      <td>0</td>\n",
       "      <td>NaN</td>\n",
       "      <td>NaN</td>\n",
       "      <td>0</td>\n",
       "      <td>NaN</td>\n",
       "      <td>NaN</td>\n",
       "      <td>NaN</td>\n",
       "      <td>NaN</td>\n",
       "      <td>NaN</td>\n",
       "    </tr>\n",
       "    <tr>\n",
       "      <th>...</th>\n",
       "      <td>...</td>\n",
       "      <td>...</td>\n",
       "      <td>...</td>\n",
       "      <td>...</td>\n",
       "      <td>...</td>\n",
       "      <td>...</td>\n",
       "      <td>...</td>\n",
       "      <td>...</td>\n",
       "      <td>...</td>\n",
       "      <td>...</td>\n",
       "      <td>...</td>\n",
       "      <td>...</td>\n",
       "      <td>...</td>\n",
       "      <td>...</td>\n",
       "      <td>...</td>\n",
       "      <td>...</td>\n",
       "      <td>...</td>\n",
       "      <td>...</td>\n",
       "      <td>...</td>\n",
       "      <td>...</td>\n",
       "      <td>...</td>\n",
       "    </tr>\n",
       "    <tr>\n",
       "      <th>316</th>\n",
       "      <td>4122</td>\n",
       "      <td>Built to Last: Successful Habits of Visionary ...</td>\n",
       "      <td>James C. Collins</td>\n",
       "      <td>Collins, James C.</td>\n",
       "      <td>Jerry I. Porras</td>\n",
       "      <td>=\"0060566108\"</td>\n",
       "      <td>=\"9780060566104\"</td>\n",
       "      <td>5</td>\n",
       "      <td>4.03</td>\n",
       "      <td>Harper Business</td>\n",
       "      <td>...</td>\n",
       "      <td>NaN</td>\n",
       "      <td>1</td>\n",
       "      <td>NaN</td>\n",
       "      <td>NaN</td>\n",
       "      <td>0</td>\n",
       "      <td>NaN</td>\n",
       "      <td>NaN</td>\n",
       "      <td>NaN</td>\n",
       "      <td>NaN</td>\n",
       "      <td>NaN</td>\n",
       "    </tr>\n",
       "    <tr>\n",
       "      <th>317</th>\n",
       "      <td>2612</td>\n",
       "      <td>The Tipping Point: How Little Things Can Make ...</td>\n",
       "      <td>Malcolm Gladwell</td>\n",
       "      <td>Gladwell, Malcolm</td>\n",
       "      <td>NaN</td>\n",
       "      <td>=\"0316346624\"</td>\n",
       "      <td>=\"9780316346627\"</td>\n",
       "      <td>4</td>\n",
       "      <td>3.98</td>\n",
       "      <td>Back Bay Books</td>\n",
       "      <td>...</td>\n",
       "      <td>NaN</td>\n",
       "      <td>1</td>\n",
       "      <td>NaN</td>\n",
       "      <td>NaN</td>\n",
       "      <td>0</td>\n",
       "      <td>NaN</td>\n",
       "      <td>NaN</td>\n",
       "      <td>NaN</td>\n",
       "      <td>NaN</td>\n",
       "      <td>NaN</td>\n",
       "    </tr>\n",
       "    <tr>\n",
       "      <th>318</th>\n",
       "      <td>9418327</td>\n",
       "      <td>Bossypants</td>\n",
       "      <td>Tina Fey</td>\n",
       "      <td>Fey, Tina</td>\n",
       "      <td>NaN</td>\n",
       "      <td>=\"\"</td>\n",
       "      <td>=\"\"</td>\n",
       "      <td>5</td>\n",
       "      <td>3.95</td>\n",
       "      <td>Reagan Arthur Books</td>\n",
       "      <td>...</td>\n",
       "      <td>NaN</td>\n",
       "      <td>1</td>\n",
       "      <td>NaN</td>\n",
       "      <td>NaN</td>\n",
       "      <td>0</td>\n",
       "      <td>NaN</td>\n",
       "      <td>NaN</td>\n",
       "      <td>NaN</td>\n",
       "      <td>NaN</td>\n",
       "      <td>NaN</td>\n",
       "    </tr>\n",
       "    <tr>\n",
       "      <th>319</th>\n",
       "      <td>6516450</td>\n",
       "      <td>What the Dog Saw and Other Adventures</td>\n",
       "      <td>Malcolm Gladwell</td>\n",
       "      <td>Gladwell, Malcolm</td>\n",
       "      <td>NaN</td>\n",
       "      <td>=\"0316078573\"</td>\n",
       "      <td>=\"9780316078573\"</td>\n",
       "      <td>3</td>\n",
       "      <td>3.85</td>\n",
       "      <td>Little, Brown and Company</td>\n",
       "      <td>...</td>\n",
       "      <td>NaN</td>\n",
       "      <td>1</td>\n",
       "      <td>NaN</td>\n",
       "      <td>NaN</td>\n",
       "      <td>0</td>\n",
       "      <td>NaN</td>\n",
       "      <td>NaN</td>\n",
       "      <td>NaN</td>\n",
       "      <td>NaN</td>\n",
       "      <td>NaN</td>\n",
       "    </tr>\n",
       "    <tr>\n",
       "      <th>320</th>\n",
       "      <td>1202</td>\n",
       "      <td>Freakonomics: A Rogue Economist Explores the H...</td>\n",
       "      <td>Steven D. Levitt</td>\n",
       "      <td>Levitt, Steven D.</td>\n",
       "      <td>Stephen J. Dubner</td>\n",
       "      <td>=\"0061234001\"</td>\n",
       "      <td>=\"9780061234002\"</td>\n",
       "      <td>4</td>\n",
       "      <td>3.98</td>\n",
       "      <td>William Morrow</td>\n",
       "      <td>...</td>\n",
       "      <td>NaN</td>\n",
       "      <td>1</td>\n",
       "      <td>NaN</td>\n",
       "      <td>NaN</td>\n",
       "      <td>0</td>\n",
       "      <td>NaN</td>\n",
       "      <td>NaN</td>\n",
       "      <td>NaN</td>\n",
       "      <td>NaN</td>\n",
       "      <td>NaN</td>\n",
       "    </tr>\n",
       "  </tbody>\n",
       "</table>\n",
       "<p>321 rows × 31 columns</p>\n",
       "</div>"
      ],
      "text/plain": [
       "      Book Id                                              Title  \\\n",
       "0    18749286  How to Get Rich: One of the World's Greatest E...   \n",
       "1    34376766  Blood, Sweat, and Pixels: The Triumphant, Turb...   \n",
       "2    13530973        Antifragile: Things That Gain from Disorder   \n",
       "3    45697427                                        Dark Matter   \n",
       "4    42041926  The Scout Mindset: Why Some People See Things ...   \n",
       "..        ...                                                ...   \n",
       "316      4122  Built to Last: Successful Habits of Visionary ...   \n",
       "317      2612  The Tipping Point: How Little Things Can Make ...   \n",
       "318   9418327                                         Bossypants   \n",
       "319   6516450              What the Dog Saw and Other Adventures   \n",
       "320      1202  Freakonomics: A Rogue Economist Explores the H...   \n",
       "\n",
       "                    Author              Author l-f Additional Authors  \\\n",
       "0             Felix Dennis           Dennis, Felix                NaN   \n",
       "1           Jason Schreier         Schreier, Jason                NaN   \n",
       "2    Nassim Nicholas Taleb  Taleb, Nassim Nicholas                NaN   \n",
       "3             Blake Crouch           Crouch, Blake                NaN   \n",
       "4              Julia Galef            Galef, Julia                NaN   \n",
       "..                     ...                     ...                ...   \n",
       "316       James C. Collins       Collins, James C.    Jerry I. Porras   \n",
       "317       Malcolm Gladwell       Gladwell, Malcolm                NaN   \n",
       "318               Tina Fey               Fey, Tina                NaN   \n",
       "319       Malcolm Gladwell       Gladwell, Malcolm                NaN   \n",
       "320       Steven D. Levitt       Levitt, Steven D.  Stephen J. Dubner   \n",
       "\n",
       "              ISBN            ISBN13  My Rating  Average Rating  \\\n",
       "0              =\"\"               =\"\"          0            4.20   \n",
       "1              =\"\"               =\"\"          0            4.23   \n",
       "2    =\"1400067820\"  =\"9781400067824\"          5            4.08   \n",
       "3              =\"\"               =\"\"          0            4.10   \n",
       "4    =\"0735217556\"  =\"9780735217553\"          0            4.33   \n",
       "..             ...               ...        ...             ...   \n",
       "316  =\"0060566108\"  =\"9780060566104\"          5            4.03   \n",
       "317  =\"0316346624\"  =\"9780316346627\"          4            3.98   \n",
       "318            =\"\"               =\"\"          5            3.95   \n",
       "319  =\"0316078573\"  =\"9780316078573\"          3            3.85   \n",
       "320  =\"0061234001\"  =\"9780061234002\"          4            3.98   \n",
       "\n",
       "                     Publisher  ... Private Notes  Read Count  \\\n",
       "0                    Portfolio  ...           NaN           1   \n",
       "1            Harper Paperbacks  ...           NaN           1   \n",
       "2                 Random House  ...           NaN           1   \n",
       "3             Ballantine Books  ...           NaN           1   \n",
       "4                    Portfolio  ...           NaN           0   \n",
       "..                         ...  ...           ...         ...   \n",
       "316            Harper Business  ...           NaN           1   \n",
       "317             Back Bay Books  ...           NaN           1   \n",
       "318        Reagan Arthur Books  ...           NaN           1   \n",
       "319  Little, Brown and Company  ...           NaN           1   \n",
       "320             William Morrow  ...           NaN           1   \n",
       "\n",
       "     Recommended For  Recommended By Owned Copies Original Purchase Date  \\\n",
       "0                NaN             NaN            0                    NaN   \n",
       "1                NaN             NaN            0                    NaN   \n",
       "2                NaN             NaN            0                    NaN   \n",
       "3                NaN             NaN            0                    NaN   \n",
       "4                NaN             NaN            0                    NaN   \n",
       "..               ...             ...          ...                    ...   \n",
       "316              NaN             NaN            0                    NaN   \n",
       "317              NaN             NaN            0                    NaN   \n",
       "318              NaN             NaN            0                    NaN   \n",
       "319              NaN             NaN            0                    NaN   \n",
       "320              NaN             NaN            0                    NaN   \n",
       "\n",
       "    Original Purchase Location Condition Condition Description  BCID  \n",
       "0                          NaN       NaN                   NaN   NaN  \n",
       "1                          NaN       NaN                   NaN   NaN  \n",
       "2                          NaN       NaN                   NaN   NaN  \n",
       "3                          NaN       NaN                   NaN   NaN  \n",
       "4                          NaN       NaN                   NaN   NaN  \n",
       "..                         ...       ...                   ...   ...  \n",
       "316                        NaN       NaN                   NaN   NaN  \n",
       "317                        NaN       NaN                   NaN   NaN  \n",
       "318                        NaN       NaN                   NaN   NaN  \n",
       "319                        NaN       NaN                   NaN   NaN  \n",
       "320                        NaN       NaN                   NaN   NaN  \n",
       "\n",
       "[321 rows x 31 columns]"
      ]
     },
     "execution_count": 35,
     "metadata": {},
     "output_type": "execute_result"
    }
   ],
   "source": [
    "reads = pd.read_csv(\"goodreads_history.csv\")\n",
    "reads"
   ]
  },
  {
   "cell_type": "code",
   "execution_count": 36,
   "metadata": {},
   "outputs": [
    {
     "data": {
      "text/plain": [
       "<bound method DataFrame.info of       Book Id                                              Title  \\\n",
       "0    18749286  How to Get Rich: One of the World's Greatest E...   \n",
       "1    34376766  Blood, Sweat, and Pixels: The Triumphant, Turb...   \n",
       "2    13530973        Antifragile: Things That Gain from Disorder   \n",
       "3    45697427                                        Dark Matter   \n",
       "4    42041926  The Scout Mindset: Why Some People See Things ...   \n",
       "..        ...                                                ...   \n",
       "316      4122  Built to Last: Successful Habits of Visionary ...   \n",
       "317      2612  The Tipping Point: How Little Things Can Make ...   \n",
       "318   9418327                                         Bossypants   \n",
       "319   6516450              What the Dog Saw and Other Adventures   \n",
       "320      1202  Freakonomics: A Rogue Economist Explores the H...   \n",
       "\n",
       "                    Author              Author l-f Additional Authors  \\\n",
       "0             Felix Dennis           Dennis, Felix                NaN   \n",
       "1           Jason Schreier         Schreier, Jason                NaN   \n",
       "2    Nassim Nicholas Taleb  Taleb, Nassim Nicholas                NaN   \n",
       "3             Blake Crouch           Crouch, Blake                NaN   \n",
       "4              Julia Galef            Galef, Julia                NaN   \n",
       "..                     ...                     ...                ...   \n",
       "316       James C. Collins       Collins, James C.    Jerry I. Porras   \n",
       "317       Malcolm Gladwell       Gladwell, Malcolm                NaN   \n",
       "318               Tina Fey               Fey, Tina                NaN   \n",
       "319       Malcolm Gladwell       Gladwell, Malcolm                NaN   \n",
       "320       Steven D. Levitt       Levitt, Steven D.  Stephen J. Dubner   \n",
       "\n",
       "              ISBN            ISBN13  My Rating  Average Rating  \\\n",
       "0              =\"\"               =\"\"          0            4.20   \n",
       "1              =\"\"               =\"\"          0            4.23   \n",
       "2    =\"1400067820\"  =\"9781400067824\"          5            4.08   \n",
       "3              =\"\"               =\"\"          0            4.10   \n",
       "4    =\"0735217556\"  =\"9780735217553\"          0            4.33   \n",
       "..             ...               ...        ...             ...   \n",
       "316  =\"0060566108\"  =\"9780060566104\"          5            4.03   \n",
       "317  =\"0316346624\"  =\"9780316346627\"          4            3.98   \n",
       "318            =\"\"               =\"\"          5            3.95   \n",
       "319  =\"0316078573\"  =\"9780316078573\"          3            3.85   \n",
       "320  =\"0061234001\"  =\"9780061234002\"          4            3.98   \n",
       "\n",
       "                     Publisher  ... Private Notes  Read Count  \\\n",
       "0                    Portfolio  ...           NaN           1   \n",
       "1            Harper Paperbacks  ...           NaN           1   \n",
       "2                 Random House  ...           NaN           1   \n",
       "3             Ballantine Books  ...           NaN           1   \n",
       "4                    Portfolio  ...           NaN           0   \n",
       "..                         ...  ...           ...         ...   \n",
       "316            Harper Business  ...           NaN           1   \n",
       "317             Back Bay Books  ...           NaN           1   \n",
       "318        Reagan Arthur Books  ...           NaN           1   \n",
       "319  Little, Brown and Company  ...           NaN           1   \n",
       "320             William Morrow  ...           NaN           1   \n",
       "\n",
       "     Recommended For  Recommended By Owned Copies Original Purchase Date  \\\n",
       "0                NaN             NaN            0                    NaN   \n",
       "1                NaN             NaN            0                    NaN   \n",
       "2                NaN             NaN            0                    NaN   \n",
       "3                NaN             NaN            0                    NaN   \n",
       "4                NaN             NaN            0                    NaN   \n",
       "..               ...             ...          ...                    ...   \n",
       "316              NaN             NaN            0                    NaN   \n",
       "317              NaN             NaN            0                    NaN   \n",
       "318              NaN             NaN            0                    NaN   \n",
       "319              NaN             NaN            0                    NaN   \n",
       "320              NaN             NaN            0                    NaN   \n",
       "\n",
       "    Original Purchase Location Condition Condition Description  BCID  \n",
       "0                          NaN       NaN                   NaN   NaN  \n",
       "1                          NaN       NaN                   NaN   NaN  \n",
       "2                          NaN       NaN                   NaN   NaN  \n",
       "3                          NaN       NaN                   NaN   NaN  \n",
       "4                          NaN       NaN                   NaN   NaN  \n",
       "..                         ...       ...                   ...   ...  \n",
       "316                        NaN       NaN                   NaN   NaN  \n",
       "317                        NaN       NaN                   NaN   NaN  \n",
       "318                        NaN       NaN                   NaN   NaN  \n",
       "319                        NaN       NaN                   NaN   NaN  \n",
       "320                        NaN       NaN                   NaN   NaN  \n",
       "\n",
       "[321 rows x 31 columns]>"
      ]
     },
     "execution_count": 36,
     "metadata": {},
     "output_type": "execute_result"
    }
   ],
   "source": [
    "reads.info"
   ]
  },
  {
   "cell_type": "code",
   "execution_count": 37,
   "metadata": {},
   "outputs": [
    {
     "data": {
      "text/plain": [
       "0      2021.0\n",
       "1         NaN\n",
       "2      2021.0\n",
       "3      2021.0\n",
       "4         NaN\n",
       "        ...  \n",
       "316       NaN\n",
       "317       NaN\n",
       "318       NaN\n",
       "319       NaN\n",
       "320       NaN\n",
       "Name: Year, Length: 321, dtype: float64"
      ]
     },
     "execution_count": 37,
     "metadata": {},
     "output_type": "execute_result"
    }
   ],
   "source": [
    "reads[\"Year\"] = pd.DatetimeIndex(reads[\"Date Read\"]).year\n",
    "reads[\"Year\"] = reads[\"Year\"].astype(float)\n",
    "reads[\"Year\"]"
   ]
  },
  {
   "cell_type": "code",
   "execution_count": 38,
   "metadata": {},
   "outputs": [
    {
     "data": {
      "text/plain": [
       "Year\n",
       "2020.0    71\n",
       "2019.0    48\n",
       "2021.0    19\n",
       "2018.0     1\n",
       "Name: count, dtype: int64"
      ]
     },
     "execution_count": 38,
     "metadata": {},
     "output_type": "execute_result"
    }
   ],
   "source": [
    "reads[\"Year\"].value_counts()"
   ]
  },
  {
   "cell_type": "code",
   "execution_count": 39,
   "metadata": {},
   "outputs": [
    {
     "data": {
      "image/png": "[encoded data removed]",
      "text/plain": [
       "<Figure size 640x480 with 1 Axes>"
      ]
     },
     "metadata": {},
     "output_type": "display_data"
    }
   ],
   "source": [
    "Years = [\"2018\", \"2019\", \"2020\", \"2021\"]\n",
    "Books = [1, 48, 71, 19]\n",
    "\n",
    "df = pd.DataFrame(list(zip(Years, Books)), columns= ['Years', 'Books'])\n",
    "\n",
    "plt.bar(df['Years'], df['Books'], color = 'pink');\n",
    "plt.ylabel('Number of Books');\n",
    "plt.xlabel('Year');\n",
    "plt.title('Reading Frequency from 2018-21');"
   ]
  },
  {
   "cell_type": "code",
   "execution_count": 40,
   "metadata": {},
   "outputs": [
    {
     "data": {
      "text/plain": [
       "dtype('<M8[ns]')"
      ]
     },
     "execution_count": 40,
     "metadata": {},
     "output_type": "execute_result"
    }
   ],
   "source": [
    "reads[\"Date Added\"] = pd.to_datetime(reads['Date Added'])\n",
    "reads[\"Date Added\"].dtype"
   ]
  },
  {
   "cell_type": "code",
   "execution_count": 41,
   "metadata": {},
   "outputs": [
    {
     "data": {
      "text/plain": [
       "dtype('<M8[ns]')"
      ]
     },
     "execution_count": 41,
     "metadata": {},
     "output_type": "execute_result"
    }
   ],
   "source": [
    "reads[\"Date Read\"] = pd.to_datetime(reads['Date Read'])\n",
    "reads[\"Date Read\"].dtype"
   ]
  },
  {
   "cell_type": "code",
   "execution_count": 42,
   "metadata": {},
   "outputs": [
    {
     "data": {
      "text/plain": [
       "0      45 days\n",
       "1          NaT\n",
       "2     903 days\n",
       "3       4 days\n",
       "4          NaT\n",
       "        ...   \n",
       "316        NaT\n",
       "317        NaT\n",
       "318        NaT\n",
       "319        NaT\n",
       "320        NaT\n",
       "Name: reading_time, Length: 321, dtype: timedelta64[ns]"
      ]
     },
     "execution_count": 42,
     "metadata": {},
     "output_type": "execute_result"
    }
   ],
   "source": [
    "reads[\"reading_time\"] = reads[\"Date Read\"] - reads[\"Date Added\"]\n",
    "reads[\"reading_time\"]"
   ]
  },
  {
   "cell_type": "code",
   "execution_count": 43,
   "metadata": {},
   "outputs": [],
   "source": [
    "reads[\"reading_time\"] = reads[\"reading_time\"].dt.days.astype(float)\n",
    "reads[\"reading_time\"] = abs(reads[\"reading_time\"])"
   ]
  },
  {
   "cell_type": "code",
   "execution_count": 52,
   "metadata": {},
   "outputs": [
    {
     "data": {
      "image/png": "[encoded data removed]",
      "text/plain": [
       "<Figure size 640x480 with 1 Axes>"
      ]
     },
     "metadata": {},
     "output_type": "display_data"
    }
   ],
   "source": [
    "plt.hist(reads['reading_time'])\n",
    "plt.xlabel(\"Number of Days\")\n",
    "plt.ylabel(\"Frequency\")\n",
    "plt.title(\"Distribution of Reading Times for 2018-2021\");"
   ]
  },
  {
   "cell_type": "code",
   "execution_count": 45,
   "metadata": {},
   "outputs": [
    {
     "data": {
      "text/plain": [
       "131.9640287769784"
      ]
     },
     "execution_count": 45,
     "metadata": {},
     "output_type": "execute_result"
    }
   ],
   "source": [
    "np.mean(reads[\"reading_time\"])"
   ]
  },
  {
   "cell_type": "code",
   "execution_count": 51,
   "metadata": {},
   "outputs": [
    {
     "data": {
      "image/png": "[encoded data removed]",
      "text/plain": [
       "<Figure size 640x480 with 1 Axes>"
      ]
     },
     "metadata": {},
     "output_type": "display_data"
    }
   ],
   "source": [
    "plt.hist(reads[\"Number of Pages\"])\n",
    "plt.xlabel(\"Number of Pages\")\n",
    "plt.ylabel(\"Frequency\")\n",
    "plt.title(\"Distribution of Book Lengths for 2018-2021\");"
   ]
  },
  {
   "cell_type": "code",
   "execution_count": 50,
   "metadata": {},
   "outputs": [
    {
     "data": {
      "text/plain": [
       "346.515923566879"
      ]
     },
     "execution_count": 50,
     "metadata": {},
     "output_type": "execute_result"
    }
   ],
   "source": [
    "np.mean(reads[\"Number of Pages\"])"
   ]
  },
  {
   "cell_type": "code",
   "execution_count": 55,
   "metadata": {},
   "outputs": [],
   "source": [
    "years = pd.DataFrame()\n",
    "years[\"Year\"] = reads[\"Year Published\"].dropna()\n",
    "years[\"Year\"] = years[\"Year\"].astype(int)"
   ]
  },
  {
   "cell_type": "code",
   "execution_count": 56,
   "metadata": {},
   "outputs": [
    {
     "data": {
      "text/plain": [
       "0      15\n",
       "1       6\n",
       "2      11\n",
       "3       7\n",
       "4       2\n",
       "       ..\n",
       "316    19\n",
       "317    21\n",
       "318    12\n",
       "319    14\n",
       "320    17\n",
       "Name: Age, Length: 312, dtype: int64"
      ]
     },
     "execution_count": 56,
     "metadata": {},
     "output_type": "execute_result"
    }
   ],
   "source": [
    "years[\"Age\"] = 2023 - years[\"Year\"]\n",
    "years[\"Age\"]"
   ]
  },
  {
   "cell_type": "code",
   "execution_count": 57,
   "metadata": {},
   "outputs": [
    {
     "data": {
      "image/png": "[encoded data removed]",
      "text/plain": [
       "<Figure size 640x480 with 1 Axes>"
      ]
     },
     "metadata": {},
     "output_type": "display_data"
    }
   ],
   "source": [
    "plt.hist(years[\"Age\"])\n",
    "plt.title(\"Distribution of Book Ages\")\n",
    "plt.xlabel(\"Years\")\n",
    "plt.ylabel(\"Frequency\");"
   ]
  },
  {
   "cell_type": "code",
   "execution_count": 59,
   "metadata": {},
   "outputs": [
    {
     "data": {
      "text/plain": [
       "11.987179487179487"
      ]
     },
     "execution_count": 59,
     "metadata": {},
     "output_type": "execute_result"
    }
   ],
   "source": [
    "np.mean(years[\"Age\"])"
   ]
  }
 ],
 "metadata": {
  "kernelspec": {
   "display_name": "base",
   "language": "python",
   "name": "python3"
  },
  "language_info": {
   "codemirror_mode": {
    "name": "ipython",
    "version": 3
   },
   "file_extension": ".py",
   "mimetype": "text/x-python",
   "name": "python",
   "nbconvert_exporter": "python",
   "pygments_lexer": "ipython3",
   "version": "3.11.5"
  }
 },
 "nbformat": 4,
 "nbformat_minor": 2
}
