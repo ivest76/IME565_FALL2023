{
  "cells": [
    {
      "cell_type": "markdown",
      "id": "a2d85c8b",
      "metadata": {
        "id": "a2d85c8b"
      },
      "source": [
        "<h1 align=\"center\">Lab 5: Hyperparameter Tuning for Decision Trees</h1>"
      ]
    },
    {
      "cell_type": "markdown",
      "id": "08e3da84",
      "metadata": {
        "id": "08e3da84"
      },
      "source": [
        "# Case Study: Predicting the Acceptance of Personal Loan\n",
        "\n",
        "<img src=\"https://rigidfinance.com/wp-content/uploads/2022/03/personal-loan.jpg\" width=600 height = 280 />\n",
        "\n",
        "Data to be used: *Bank.csv*\n",
        "\n",
        "Following is the description of columns in *Bank.csv* file\n",
        "\n",
        "<TABLE CAPTION=\"Personal Loan Dataset\">\n",
        "<TR><TD><B>Variable</B></TD><TD><B>Description</B></TD></TR>\n",
        "<TR><TD>Age</TD><TD>Customer's age</TD></TR>\n",
        "<TR><TD>Experience</TD><TD># years of professional experience</TD></TR>\n",
        "<TR><TD>Income</TD><TD>Annual income of the customer (&#36;000)</TD></TR>\n",
        "<TR><TD>Family</TD><TD>Family size of the customer</TD></TR>\n",
        "<TR><TD>CCAvg</TD><TD>Avg. spending on credit cards per month (&#36;000)</TD></TR>\n",
        "<TR><TD>Education</TD><TD>Education Level. 1: Undergrad; 2: Graduate; 3: Advanced/Professional</TD></TR>   \n",
        "<TR><TD>Mortgage</TD><TD>Value of house mortgage if any. (&#36;000)</TD></TR>\n",
        "<TR><TD>Securities Account</TD><TD>Does the customer have a securities account with the bank?</TD></TR>\n",
        "<TR><TD>CD Account</TD><TD>Does the customer have a certificate of deposit (CD) account with the bank?</TD></TR>\n",
        "<TR><TD>Online</TD><TD>Does the customer use internet banking facilities?</TD></TR>\n",
        "<TR><TD>CreditCard</TD><TD>Does the customer use a credit card issued by the bank?</TD></TR>\n",
        "<TR><TD>Personal Loan (outcome)</TD><TD>Did this customer accept the personal loan offered in the campaign?</TD></TR>\n",
        "</TABLE>\n",
        "\n",
        "In `Personal Loan` Column:\n",
        "\n",
        "- 0: Did not accept loan\n",
        "- 1: Accepted loan"
      ]
    },
    {
      "cell_type": "markdown",
      "id": "4bd693da",
      "metadata": {
        "id": "4bd693da"
      },
      "source": [
        "## Import Packages"
      ]
    },
    {
      "cell_type": "code",
      "execution_count": null,
      "id": "4ab9604e",
      "metadata": {
        "id": "4ab9604e"
      },
      "outputs": [],
      "source": [
        "import pandas as pd                  # Pandas\n",
        "import numpy as np                   # Numpy\n",
        "from matplotlib import pyplot as plt # Matplotlib\n",
        "\n",
        "# Package to implement Decision Tree Model\n",
        "import sklearn\n",
        "from sklearn.tree import DecisionTreeClassifier\n",
        "\n",
        "# Package for data partitioning\n",
        "from sklearn.model_selection import train_test_split\n",
        "\n",
        "# Package to visualize Decision Tree\n",
        "from sklearn import tree\n",
        "\n",
        "# Package for generating confusion matrix\n",
        "from sklearn.metrics import confusion_matrix, ConfusionMatrixDisplay\n",
        "\n",
        "# Package for generating classification report\n",
        "from sklearn.metrics import classification_report\n",
        "\n",
        "# Import packages to implement Stratified K-fold CV\n",
        "from sklearn.model_selection import StratifiedKFold # For creating folds\n",
        "\n",
        "# Import Package to implement GridSearch CV (Hyperparameter Tuning Method 1)\n",
        "from sklearn.model_selection import GridSearchCV\n",
        "\n",
        "# Importing package for Randomized Search CV (Hyperparameter Tuning Method 2)\n",
        "from sklearn.model_selection import RandomizedSearchCV\n",
        "\n",
        "# Package to record time\n",
        "import time\n",
        "\n",
        "# Ignore Deprecation Warnings\n",
        "import warnings\n",
        "warnings.filterwarnings('ignore')\n",
        "\n",
        "\n",
        "\n",
        "%matplotlib inline"
      ]
    },
    {
      "cell_type": "markdown",
      "id": "4ed9b74c",
      "metadata": {
        "id": "4ed9b74c"
      },
      "source": [
        "## Import Data"
      ]
    },
    {
      "cell_type": "code",
      "execution_count": null,
      "id": "0cd6c0be",
      "metadata": {
        "id": "0cd6c0be"
      },
      "outputs": [],
      "source": [
        "# Import Data\n",
        "bank_df = pd.read_csv('Bank.csv')\n",
        "bank_df.head()"
      ]
    },
    {
      "cell_type": "code",
      "execution_count": null,
      "id": "M6nEEx8ijcgx",
      "metadata": {
        "id": "M6nEEx8ijcgx"
      },
      "outputs": [],
      "source": [
        "# Summary of the data\n",
        "bank_df.info()"
      ]
    },
    {
      "cell_type": "code",
      "execution_count": null,
      "id": "bp47KHajjh11",
      "metadata": {
        "id": "bp47KHajjh11"
      },
      "outputs": [],
      "source": [
        "# Distribution of Personal Loan column\n",
        "bank_df['Personal Loan'].value_counts(normalize = True)"
      ]
    },
    {
      "cell_type": "markdown",
      "id": "gXDeSlvMjlr6",
      "metadata": {
        "id": "gXDeSlvMjlr6"
      },
      "source": [
        "**NOTE**: Among 5000 customers, only 480 (= 9.6\\%) accepted the personal loan.\n",
        "\n",
        "This is an example of **Imbalanced Dataset** where the distribution of instances across the classes is not equal."
      ]
    },
    {
      "cell_type": "markdown",
      "source": [
        "### Step 1: Selecting data correponding to Input Features `X` and Outcome `y`\n",
        "\n"
      ],
      "metadata": {
        "id": "fJJC0_ybeUY3"
      },
      "id": "fJJC0_ybeUY3"
    },
    {
      "cell_type": "code",
      "source": [
        "X = bank_df.drop(columns = ['Personal Loan'])\n",
        "y = bank_df['Personal Loan']"
      ],
      "metadata": {
        "id": "JzUhXV2qedA6"
      },
      "execution_count": null,
      "outputs": [],
      "id": "JzUhXV2qedA6"
    },
    {
      "cell_type": "markdown",
      "source": [
        "### Step 2: Dealing with Categorical Variables\n",
        "\n",
        "Using the **one-hot encoding method**, a new dummy/indicator variable is created for each categorical variable to represent the presence (1) or absence (0) of the categorical variable"
      ],
      "metadata": {
        "id": "iTAdlK60fhBg"
      },
      "id": "iTAdlK60fhBg"
    },
    {
      "cell_type": "code",
      "source": [
        "cat_var = ['Education', 'Securities Account', 'CD Account', 'Online', 'CreditCard']\n",
        "X_encoded = pd.get_dummies(X, columns = cat_var)"
      ],
      "metadata": {
        "id": "xvDPdpNdimRA"
      },
      "execution_count": null,
      "outputs": [],
      "id": "xvDPdpNdimRA"
    },
    {
      "cell_type": "code",
      "source": [
        "X_encoded.head()"
      ],
      "metadata": {
        "id": "avEKmpm4i8ix"
      },
      "execution_count": null,
      "outputs": [],
      "id": "avEKmpm4i8ix"
    },
    {
      "cell_type": "code",
      "source": [
        "y.head()"
      ],
      "metadata": {
        "id": "0GDxbEFWjASn"
      },
      "execution_count": null,
      "outputs": [],
      "id": "0GDxbEFWjASn"
    },
    {
      "cell_type": "markdown",
      "source": [
        "### Step 3: Data Partitioning into train and test sets"
      ],
      "metadata": {
        "id": "I-n0sbqJioxD"
      },
      "id": "I-n0sbqJioxD"
    },
    {
      "cell_type": "code",
      "source": [
        "train_X, test_X, train_y, test_y = train_test_split(X_encoded, y, test_size = 0.3, random_state = 1)"
      ],
      "metadata": {
        "id": "L-JD5mMCi0dm"
      },
      "execution_count": null,
      "outputs": [],
      "id": "L-JD5mMCi0dm"
    },
    {
      "cell_type": "markdown",
      "id": "04057072",
      "metadata": {
        "id": "04057072"
      },
      "source": [
        "## Hyperparameter Tuning\n",
        "\n",
        "It refers to the process of choosing the **optimal set of hyperparameters** for a model.\n",
        "\n",
        "**Example**: Selecting the best value of `max_depth` while using Decision Tree model\n",
        "\n",
        "<img src=\"https://drive.google.com/uc?id=1g-xTdAI9JaWOD5Kmd5GUbbBCcNmRZPsy\" width=\"550\" style=\"float: center\"/>"
      ]
    },
    {
      "cell_type": "markdown",
      "source": [
        "### **GridSearch Cross-Validation**\n",
        "- Grid Search is used to automate the process of hyperparameter tuning.\n",
        "- Grid Search CV trains the estimator on **all combinations** of the parameter grid and returns the model with the best CV score."
      ],
      "metadata": {
        "id": "NxutC6vdrDzJ"
      },
      "id": "NxutC6vdrDzJ"
    },
    {
      "cell_type": "code",
      "execution_count": null,
      "id": "7398b5bf",
      "metadata": {
        "id": "7398b5bf"
      },
      "outputs": [],
      "source": [
        "# Define your model\n",
        "classifier = DecisionTreeClassifier(random_state = 42)"
      ]
    },
    {
      "cell_type": "code",
      "execution_count": null,
      "id": "564add4d",
      "metadata": {
        "id": "564add4d"
      },
      "outputs": [],
      "source": [
        "# Start with an initial guess for parameters\n",
        "hyper_params = {\n",
        "    'max_depth': [10, 20, 30, 40],\n",
        "    'min_samples_split': [20, 40, 60],\n",
        "    'min_samples_leaf': [10, 20, 30, 40, 100]\n",
        "}"
      ]
    },
    {
      "cell_type": "markdown",
      "id": "p4a8oEFGofOd",
      "metadata": {
        "id": "p4a8oEFGofOd"
      },
      "source": [
        "**How many experiments do we have in this case?**"
      ]
    },
    {
      "cell_type": "code",
      "execution_count": null,
      "id": "984f7d94",
      "metadata": {
        "id": "984f7d94"
      },
      "outputs": [],
      "source": [
        "# Creating folds\n",
        "folds = StratifiedKFold(n_splits = 5, shuffle = True, random_state = 100)"
      ]
    },
    {
      "cell_type": "markdown",
      "source": [
        "To create folds, we use `StratifiedKFold()` function that takes the following input arguments:\n",
        "\n",
        "- `n_splits`: Number of folds (default: 5)\n",
        "- `shuffle`: Whether to shuffle the data before splitting into folds/batches (bool: True/False)\n",
        "- `random_state`: When shuffle is True, random_state affects the ordering of the indices, which controls the randomness of each fold"
      ],
      "metadata": {
        "id": "1LVtXmZCnROd"
      },
      "id": "1LVtXmZCnROd"
    },
    {
      "cell_type": "code",
      "execution_count": null,
      "id": "76f81b6e",
      "metadata": {
        "id": "76f81b6e"
      },
      "outputs": [],
      "source": [
        "# Call GridSearchCV()\n",
        "model_cv = GridSearchCV(estimator = classifier,\n",
        "                        param_grid = hyper_params,\n",
        "                        scoring = 'f1_weighted',\n",
        "                        cv = folds,\n",
        "                        verbose = 1,\n",
        "                        n_jobs = -1) # Will utilize all available CPUs"
      ]
    },
    {
      "cell_type": "markdown",
      "metadata": {
        "id": "2GtCh9ZP8ncD"
      },
      "source": [
        "**For more information on Grid Search CV:**\n",
        "\n",
        "https://scikit-learn.org/stable/modules/generated/sklearn.model_selection.GridSearchCV.html"
      ],
      "id": "2GtCh9ZP8ncD"
    },
    {
      "cell_type": "code",
      "execution_count": null,
      "id": "ea47a5e0",
      "metadata": {
        "id": "ea47a5e0"
      },
      "outputs": [],
      "source": [
        "# Fit the model\n",
        "start = time.time()            # Start Time\n",
        "model_cv.fit(train_X, train_y)\n",
        "stop = time.time()             # End Time\n",
        "print(f\"Training time: {stop - start}s\")"
      ]
    },
    {
      "cell_type": "markdown",
      "source": [
        "**Analyzing Results**"
      ],
      "metadata": {
        "id": "BpYsSMh7oQwM"
      },
      "id": "BpYsSMh7oQwM"
    },
    {
      "cell_type": "code",
      "source": [
        "# CV results\n",
        "cv_results = pd.DataFrame(model_cv.cv_results_)\n",
        "cv_results"
      ],
      "metadata": {
        "id": "E4KU2nPwoU9S"
      },
      "id": "E4KU2nPwoU9S",
      "execution_count": null,
      "outputs": []
    },
    {
      "cell_type": "code",
      "execution_count": null,
      "id": "e7510144",
      "metadata": {
        "id": "e7510144"
      },
      "outputs": [],
      "source": [
        "# Return the performance metric score\n",
        "print('Initial score: ', model_cv.best_score_)\n",
        "\n",
        "# Return set of parameters with the best performance\n",
        "print('Initial parameters: ', model_cv.best_params_)"
      ]
    },
    {
      "cell_type": "code",
      "execution_count": null,
      "id": "87914416",
      "metadata": {
        "id": "87914416"
      },
      "outputs": [],
      "source": [
        "# Adapt grid based on result from initial grid search\n",
        "hyper_params_new = {\n",
        "    'max_depth': list(range(2, 12)),\n",
        "    'min_samples_leaf': list(range(2, 12)),\n",
        "    'min_samples_split': list(range(15, 24))\n",
        "}"
      ]
    },
    {
      "cell_type": "code",
      "execution_count": null,
      "id": "bba92b3b",
      "metadata": {
        "id": "bba92b3b"
      },
      "outputs": [],
      "source": [
        "# Call GridSearchCV()\n",
        "model_cv = GridSearchCV(estimator = classifier,\n",
        "                        param_grid = hyper_params_new,\n",
        "                        scoring= 'f1_weighted',\n",
        "                        cv = folds,\n",
        "                        verbose = 1,\n",
        "                        n_jobs = -1) # Will utilize all available CPUs"
      ]
    },
    {
      "cell_type": "code",
      "execution_count": null,
      "id": "3be9611c",
      "metadata": {
        "id": "3be9611c"
      },
      "outputs": [],
      "source": [
        "# Fit the model\n",
        "start = time.time()            # Start Time\n",
        "model_cv.fit(train_X, train_y)\n",
        "stop = time.time()             # End Time\n",
        "print(f\"Training time: {stop - start}s\")"
      ]
    },
    {
      "cell_type": "code",
      "execution_count": null,
      "id": "76f5982a",
      "metadata": {
        "id": "76f5982a"
      },
      "outputs": [],
      "source": [
        "print('Improved score: ', model_cv.best_score_)\n",
        "print('Improved parameters: ', model_cv.best_params_)"
      ]
    },
    {
      "cell_type": "code",
      "execution_count": null,
      "id": "4887c067",
      "metadata": {
        "id": "4887c067"
      },
      "outputs": [],
      "source": [
        "# Storing best model\n",
        "bestClassTree = model_cv.best_estimator_\n",
        "print(bestClassTree)"
      ]
    },
    {
      "cell_type": "code",
      "source": [
        "# Visualizing Decision Tree\n",
        "fig = plt.figure(figsize=(25,20))\n",
        "a = tree.plot_tree(decision_tree = bestClassTree,\n",
        "                   feature_names = train_X.columns,\n",
        "                   class_names = ['Reject', \"Accept\"],\n",
        "                   filled = True)"
      ],
      "metadata": {
        "id": "DhcgDdmRqDQK"
      },
      "id": "DhcgDdmRqDQK",
      "execution_count": null,
      "outputs": []
    },
    {
      "cell_type": "markdown",
      "source": [
        "#### **Evaluating the performance of tuned model on train set**"
      ],
      "metadata": {
        "id": "BFtt_ttJ15US"
      },
      "id": "BFtt_ttJ15US"
    },
    {
      "cell_type": "code",
      "source": [
        "# First make predictions on train set\n",
        "y_pred_train = model_cv.predict(train_X)\n",
        "\n",
        "# Now generate confusion matrix\n",
        "cm = confusion_matrix(train_y, y_pred_train, labels = model_cv.classes_)\n",
        "disp = ConfusionMatrixDisplay(confusion_matrix = cm, display_labels = model_cv.classes_)\n",
        "\n",
        "# Specify figure size and font size\n",
        "fig, ax = plt.subplots(figsize = (6, 6))\n",
        "plt.rcParams.update({'font.size': 15})\n",
        "\n",
        "# Display Confusion Matrix\n",
        "disp.plot(cmap = 'PuRd', ax = ax);"
      ],
      "metadata": {
        "id": "jAod9MSQ1jT9"
      },
      "id": "jAod9MSQ1jT9",
      "execution_count": null,
      "outputs": []
    },
    {
      "cell_type": "markdown",
      "id": "f74fec70",
      "metadata": {
        "id": "f74fec70"
      },
      "source": [
        "#### **Evaluating the performance of tuned model on test set**"
      ]
    },
    {
      "cell_type": "code",
      "execution_count": null,
      "id": "18526589",
      "metadata": {
        "id": "18526589"
      },
      "outputs": [],
      "source": [
        "# Predictions on test set\n",
        "y_pred = model_cv.predict(test_X)\n",
        "\n",
        "# Now generate confusion matrix\n",
        "cm = confusion_matrix(test_y, y_pred, labels = model_cv.classes_)\n",
        "disp = ConfusionMatrixDisplay(confusion_matrix = cm, display_labels = model_cv.classes_)\n",
        "\n",
        "# Specify figure size\n",
        "fig, ax = plt.subplots(figsize = (6, 6))\n",
        "\n",
        "# Display Confusion Matrix\n",
        "disp.plot(cmap = 'BuPu', ax = ax);"
      ]
    },
    {
      "cell_type": "code",
      "execution_count": null,
      "id": "13e0c187",
      "metadata": {
        "id": "13e0c187"
      },
      "outputs": [],
      "source": [
        "# Generating Classification Report\n",
        "report = classification_report(test_y, y_pred, output_dict = True)\n",
        "report_df = pd.DataFrame(report)\n",
        "report_df"
      ]
    },
    {
      "cell_type": "code",
      "source": [
        "# Access specific items\n",
        "weighted_f1 = report_df.loc['f1-score', 'weighted avg']\n",
        "weighted_f1"
      ],
      "metadata": {
        "id": "V1A0_YaX2mLE"
      },
      "id": "V1A0_YaX2mLE",
      "execution_count": null,
      "outputs": []
    },
    {
      "cell_type": "markdown",
      "id": "9617120e",
      "metadata": {
        "id": "9617120e"
      },
      "source": [
        "#### **Prediction Probabilities**"
      ]
    },
    {
      "cell_type": "code",
      "execution_count": null,
      "id": "c232801d",
      "metadata": {
        "id": "c232801d"
      },
      "outputs": [],
      "source": [
        "# Getting prediction probabilites\n",
        "prob = model_cv.predict_proba(test_X)\n",
        "\n",
        "# Printing prediction results\n",
        "result = pd.DataFrame({'Actual': test_y, 'Predicted': y_pred})\n",
        "\n",
        "# Creating columns for rejection and acceptance prob.\n",
        "result[['Prob. of Reject (0)','Prob. of Accept (1)']] = pd.DataFrame(prob.tolist(), index = result.index)\n",
        "\n",
        "display(result.head(20))\n",
        "\n",
        "# Saving dataframe as a csv file\n",
        "#result.to_csv('Prediction Results.csv', index = False)"
      ]
    },
    {
      "cell_type": "markdown",
      "id": "422fd15c",
      "metadata": {
        "id": "422fd15c"
      },
      "source": [
        "#### **Feature Importance**\n",
        "\n",
        "Degree of **usefulness** of a specific input feature for a current model and prediction"
      ]
    },
    {
      "cell_type": "code",
      "execution_count": null,
      "id": "c2b269c3",
      "metadata": {
        "id": "c2b269c3"
      },
      "outputs": [],
      "source": [
        "# Storing importance values from the best fit model\n",
        "importance = bestClassTree.feature_importances_"
      ]
    },
    {
      "cell_type": "code",
      "execution_count": null,
      "id": "4249c70f",
      "metadata": {
        "id": "4249c70f"
      },
      "outputs": [],
      "source": [
        "# Displaying feature importance as a dataframe\n",
        "feature_imp = pd.DataFrame(list(zip(train_X.columns, importance)),\n",
        "               columns = ['Feature', 'Importance'])\n",
        "\n",
        "feature_imp = feature_imp.sort_values('Importance', ascending = False).reset_index(drop = True)\n",
        "\n",
        "feature_imp"
      ]
    },
    {
      "cell_type": "code",
      "source": [
        "# Selecting features with non-zero importance values\n",
        "feature_imp_nonzero = feature_imp[feature_imp['Importance'] != 0.0]\n",
        "\n",
        "# Bar plot\n",
        "plt.figure(figsize=(10, 5), dpi = 100)\n",
        "plt.barh(feature_imp_nonzero['Feature'], feature_imp_nonzero['Importance'], color = ['orange', 'lime'])\n",
        "\n",
        "plt.xlabel(\"Importance\")\n",
        "plt.ylabel(\"Input Feature\")\n",
        "plt.title(\"Feature Importance\");"
      ],
      "metadata": {
        "id": "w7fpwktj2YGI"
      },
      "id": "w7fpwktj2YGI",
      "execution_count": null,
      "outputs": []
    },
    {
      "cell_type": "markdown",
      "source": [
        "### **Randomized Search Cross-Validation**\n",
        "\n",
        "- Randomized Search CV overcomes the limitations of GridSearch CV (high time complexity)\n",
        "- Randomized Search trains model on a **random subset of hyperparameter combinations**\n",
        "- Total number of combinations on which the estimator is trained is less for randomized search compared to grid search\n",
        "\n",
        "The number of parameter settings that can be sampled can be decided by tuning the `n_iter` parameters in the `RandomizedSearchCV()`"
      ],
      "metadata": {
        "id": "aD3JSADJrbHl"
      },
      "id": "aD3JSADJrbHl"
    },
    {
      "cell_type": "code",
      "source": [
        "# Define your model\n",
        "classifier = DecisionTreeClassifier(random_state = 42)\n",
        "\n",
        "# Ranges for hyperparameters\n",
        "hyper_params_new = {\n",
        "    'max_depth': list(range(2, 12)),\n",
        "    'min_samples_leaf': list(range(2, 12)),\n",
        "    'min_samples_split': list(range(15, 24))\n",
        "}\n",
        "\n",
        "# Creating folds\n",
        "folds = StratifiedKFold(n_splits = 5, shuffle = True, random_state = 100)"
      ],
      "metadata": {
        "id": "IRrKGiH_r_eH"
      },
      "id": "IRrKGiH_r_eH",
      "execution_count": null,
      "outputs": []
    },
    {
      "cell_type": "code",
      "source": [
        "# Create the random search CV\n",
        "random_model_cv = RandomizedSearchCV(estimator = classifier,\n",
        "                                     param_distributions = hyper_params_new,\n",
        "                                     scoring = 'f1_weighted',\n",
        "                                     cv = folds,\n",
        "                                     verbose = 1,\n",
        "                                     n_jobs = -1,\n",
        "                                     n_iter = 50,\n",
        "                                     random_state = 100)\n",
        "\n",
        "\n",
        "# Fit the model\n",
        "start = time.time()            # Start Time\n",
        "random_model_cv.fit(train_X, train_y)\n",
        "stop = time.time()             # End Time\n",
        "print(f\"Training time: {stop - start}s\")"
      ],
      "metadata": {
        "id": "AXnRahEbrj1c"
      },
      "id": "AXnRahEbrj1c",
      "execution_count": null,
      "outputs": []
    },
    {
      "cell_type": "code",
      "source": [
        "# cv results\n",
        "random_cv_results = pd.DataFrame(random_model_cv.cv_results_)\n",
        "random_cv_results"
      ],
      "metadata": {
        "id": "0xeeSv6rsqJ_"
      },
      "id": "0xeeSv6rsqJ_",
      "execution_count": null,
      "outputs": []
    },
    {
      "cell_type": "code",
      "source": [
        "# Return set of parameters with the best performance\n",
        "print(random_model_cv.best_params_)\n",
        "\n",
        "# Return the performance metric score\n",
        "print(random_model_cv.best_score_)"
      ],
      "metadata": {
        "id": "bcKP6nRzsw7c"
      },
      "id": "bcKP6nRzsw7c",
      "execution_count": null,
      "outputs": []
    }
  ],
  "metadata": {
    "colab": {
      "provenance": [],
      "collapsed_sections": [
        "4bd693da",
        "4ed9b74c",
        "04057072",
        "NxutC6vdrDzJ",
        "aD3JSADJrbHl"
      ]
    },
    "kernelspec": {
      "display_name": "Python 3",
      "language": "python",
      "name": "python3"
    },
    "language_info": {
      "codemirror_mode": {
        "name": "ipython",
        "version": 3
      },
      "file_extension": ".py",
      "mimetype": "text/x-python",
      "name": "python",
      "nbconvert_exporter": "python",
      "pygments_lexer": "ipython3",
      "version": "3.8.8"
    }
  },
  "nbformat": 4,
  "nbformat_minor": 5
}