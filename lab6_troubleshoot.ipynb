{
 "cells": [
  {
   "cell_type": "code",
   "execution_count": 5,
   "metadata": {},
   "outputs": [],
   "source": [
    "import pandas as pd\n",
    "import numpy as np\n",
    "import math\n",
    "\n",
    "airports = pd.read_csv(\"airport_location.csv\")"
   ]
  },
  {
   "cell_type": "code",
   "execution_count": 6,
   "metadata": {},
   "outputs": [],
   "source": [
    "def haversine_formula(selected_latitude_1, selected_longitude_1,\n",
    "                      selected_latitude_2, selected_longitude_2):\n",
    "    \n",
    "    #converting to radians\n",
    "    lat1 = math.radians(selected_latitude_1)\n",
    "    lat2 = math.radians(selected_latitude_2)\n",
    "    long1 = math.radians(selected_longitude_1)\n",
    "    long2 = math.radians(selected_longitude_2)\n",
    "\n",
    "    #computing differences\n",
    "    diff_lat = abs(lat1 - lat2)\n",
    "    diff_long = abs(long1 - lat2)\n",
    "\n",
    "    a = (math.sin(diff_lat/2))**2 + math.cos(lat1)*math.cos(lat2)*((math.sin(diff_long/2))**2)\n",
    "\n",
    "    c = 2 * math.atan2(np.sqrt(a), np.sqrt(1-a))\n",
    "\n",
    "    d = 6371 * c\n",
    "\n",
    "    return math.trunc(d)"
   ]
  },
  {
   "cell_type": "code",
   "execution_count": 8,
   "metadata": {},
   "outputs": [
    {
     "name": "stderr",
     "output_type": "stream",
     "text": [
      "/var/folders/2z/gg85_7kx0tv9_7p0slp6zf_m0000gn/T/ipykernel_35838/3783189732.py:5: FutureWarning: Calling float on a single element Series is deprecated and will raise a TypeError in the future. Use float(ser.iloc[0]) instead\n",
      "  lat1 = math.radians(selected_latitude_1)\n",
      "/var/folders/2z/gg85_7kx0tv9_7p0slp6zf_m0000gn/T/ipykernel_35838/3783189732.py:7: FutureWarning: Calling float on a single element Series is deprecated and will raise a TypeError in the future. Use float(ser.iloc[0]) instead\n",
      "  long1 = math.radians(selected_longitude_1)\n",
      "/var/folders/2z/gg85_7kx0tv9_7p0slp6zf_m0000gn/T/ipykernel_35838/1590188365.py:7: SettingWithCopyWarning: \n",
      "A value is trying to be set on a copy of a slice from a DataFrame.\n",
      "Try using .loc[row_indexer,col_indexer] = value instead\n",
      "\n",
      "See the caveats in the documentation: https://pandas.pydata.org/pandas-docs/stable/user_guide/indexing.html#returning-a-view-versus-a-copy\n",
      "  airports2[\"Distance\"] = airports2.apply(lambda x: haversine_formula(lat, long, x[\"Lat\"],\n"
     ]
    }
   ],
   "source": [
    "#filtering df and saving selected airport lat and long\n",
    "airports1 = airports[airports[\"Airport Code\"] == \"CDG\"]\n",
    "lat = airports1[\"Lat\"]\n",
    "long = airports1[\"Long\"]\n",
    "airports2 = airports[airports[\"Airport Code\"] != \"CDG\"]\n",
    "\n",
    "airports2[\"Distance\"] = airports2.apply(lambda x: haversine_formula(lat, long, x[\"Lat\"], \n",
    "                                                                    x[\"Long\"]), axis=1)\n",
    "\n"
   ]
  },
  {
   "cell_type": "code",
   "execution_count": 10,
   "metadata": {},
   "outputs": [
    {
     "name": "stderr",
     "output_type": "stream",
     "text": [
      "/var/folders/2z/gg85_7kx0tv9_7p0slp6zf_m0000gn/T/ipykernel_35838/3299714289.py:1: SettingWithCopyWarning: \n",
      "A value is trying to be set on a copy of a slice from a DataFrame\n",
      "\n",
      "See the caveats in the documentation: https://pandas.pydata.org/pandas-docs/stable/user_guide/indexing.html#returning-a-view-versus-a-copy\n",
      "  airports2.sort_values(by= \"Distance\", ascending=False, inplace=True)\n"
     ]
    },
    {
     "data": {
      "text/html": [
       "<div>\n",
       "<style scoped>\n",
       "    .dataframe tbody tr th:only-of-type {\n",
       "        vertical-align: middle;\n",
       "    }\n",
       "\n",
       "    .dataframe tbody tr th {\n",
       "        vertical-align: top;\n",
       "    }\n",
       "\n",
       "    .dataframe thead th {\n",
       "        text-align: right;\n",
       "    }\n",
       "</style>\n",
       "<table border=\"1\" class=\"dataframe\">\n",
       "  <thead>\n",
       "    <tr style=\"text-align: right;\">\n",
       "      <th></th>\n",
       "      <th>Airport Code</th>\n",
       "      <th>Lat</th>\n",
       "      <th>Long</th>\n",
       "      <th>Distance</th>\n",
       "    </tr>\n",
       "  </thead>\n",
       "  <tbody>\n",
       "    <tr>\n",
       "      <th>1</th>\n",
       "      <td>CHC</td>\n",
       "      <td>-43.489399</td>\n",
       "      <td>172.531998</td>\n",
       "      <td>11220</td>\n",
       "    </tr>\n",
       "    <tr>\n",
       "      <th>6</th>\n",
       "      <td>ONU</td>\n",
       "      <td>-20.650000</td>\n",
       "      <td>-178.699997</td>\n",
       "      <td>8080</td>\n",
       "    </tr>\n",
       "    <tr>\n",
       "      <th>2</th>\n",
       "      <td>DYR</td>\n",
       "      <td>64.734901</td>\n",
       "      <td>177.740997</td>\n",
       "      <td>3956</td>\n",
       "    </tr>\n",
       "    <tr>\n",
       "      <th>5</th>\n",
       "      <td>OME</td>\n",
       "      <td>64.512199</td>\n",
       "      <td>-165.445007</td>\n",
       "      <td>3948</td>\n",
       "    </tr>\n",
       "    <tr>\n",
       "      <th>4</th>\n",
       "      <td>HNL</td>\n",
       "      <td>21.318701</td>\n",
       "      <td>-157.921997</td>\n",
       "      <td>3498</td>\n",
       "    </tr>\n",
       "    <tr>\n",
       "      <th>3</th>\n",
       "      <td>EWR</td>\n",
       "      <td>40.692501</td>\n",
       "      <td>-74.168701</td>\n",
       "      <td>3108</td>\n",
       "    </tr>\n",
       "    <tr>\n",
       "      <th>7</th>\n",
       "      <td>PEK</td>\n",
       "      <td>40.080101</td>\n",
       "      <td>116.584999</td>\n",
       "      <td>3099</td>\n",
       "    </tr>\n",
       "  </tbody>\n",
       "</table>\n",
       "</div>"
      ],
      "text/plain": [
       "  Airport Code        Lat        Long  Distance\n",
       "1          CHC -43.489399  172.531998     11220\n",
       "6          ONU -20.650000 -178.699997      8080\n",
       "2          DYR  64.734901  177.740997      3956\n",
       "5          OME  64.512199 -165.445007      3948\n",
       "4          HNL  21.318701 -157.921997      3498\n",
       "3          EWR  40.692501  -74.168701      3108\n",
       "7          PEK  40.080101  116.584999      3099"
      ]
     },
     "execution_count": 10,
     "metadata": {},
     "output_type": "execute_result"
    }
   ],
   "source": [
    "airports2.sort_values(by= \"Distance\", ascending=False, inplace=True)\n",
    "airports2"
   ]
  },
  {
   "cell_type": "code",
   "execution_count": 13,
   "metadata": {},
   "outputs": [
    {
     "data": {
      "text/plain": [
       "['CDG', 'CHC', 'DYR', 'EWR', 'HNL', 'OME', 'ONU', 'PEK']"
      ]
     },
     "execution_count": 13,
     "metadata": {},
     "output_type": "execute_result"
    }
   ],
   "source": [
    "airports[\"Airport Code\"].values.tolist()"
   ]
  }
 ],
 "metadata": {
  "kernelspec": {
   "display_name": "base",
   "language": "python",
   "name": "python3"
  },
  "language_info": {
   "codemirror_mode": {
    "name": "ipython",
    "version": 3
   },
   "file_extension": ".py",
   "mimetype": "text/x-python",
   "name": "python",
   "nbconvert_exporter": "python",
   "pygments_lexer": "ipython3",
   "version": "3.11.5"
  }
 },
 "nbformat": 4,
 "nbformat_minor": 2
}
